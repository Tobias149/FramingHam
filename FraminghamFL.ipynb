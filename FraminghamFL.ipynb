{
  "nbformat": 4,
  "nbformat_minor": 0,
  "metadata": {
    "colab": {
      "name": "Framingham.ipynb",
      "provenance": [],
      "collapsed_sections": [
        "yhq5VyNCvIPK",
        "IHWzIaZ8u2LR",
        "w2AY5J_LulRQ",
        "VA6cxE_QutdQ",
        "_LWrlLkjuHeS"
      ]
    },
    "kernelspec": {
      "name": "python3",
      "display_name": "Python 3"
    },
    "language_info": {
      "name": "python"
    }
  },
  "cells": [
    {
      "cell_type": "code",
      "metadata": {
        "id": "HlmolJiz99eO"
      },
      "source": [
        "import warnings\n",
        "warnings.filterwarnings('ignore')\n",
        "\n",
        "import pandas as pd\n",
        "import matplotlib.pyplot as plt\n",
        "import seaborn as sns\n",
        "import numpy as np\n",
        "\n"
      ],
      "execution_count": 32,
      "outputs": []
    },
    {
      "cell_type": "code",
      "metadata": {
        "colab": {
          "base_uri": "https://localhost:8080/"
        },
        "id": "qIasf8ZnBya2",
        "outputId": "2217b148-cb28-4b80-ad8b-dbc639b7adb8"
      },
      "source": [
        "df = pd.read_csv(\"/content/drive/MyDrive/Colab Notebooks/framingham.csv\")\n",
        "df.rename({'male': 'sex'}, axis=1, inplace=True)\n",
        "df.dtypes\n"
      ],
      "execution_count": 33,
      "outputs": [
        {
          "output_type": "execute_result",
          "data": {
            "text/plain": [
              "sex                  int64\n",
              "age                  int64\n",
              "education          float64\n",
              "currentSmoker        int64\n",
              "cigsPerDay         float64\n",
              "BPMeds             float64\n",
              "prevalentStroke      int64\n",
              "prevalentHyp         int64\n",
              "diabetes             int64\n",
              "totChol            float64\n",
              "sysBP              float64\n",
              "diaBP              float64\n",
              "BMI                float64\n",
              "heartRate          float64\n",
              "glucose            float64\n",
              "TenYearCHD           int64\n",
              "dtype: object"
            ]
          },
          "metadata": {
            "tags": []
          },
          "execution_count": 33
        }
      ]
    },
    {
      "cell_type": "code",
      "metadata": {
        "id": "vvkfEOU40_7Y",
        "colab": {
          "base_uri": "https://localhost:8080/",
          "height": 439
        },
        "outputId": "fa66f614-6c35-4310-a05e-d0e6d7721685"
      },
      "source": [
        "df"
      ],
      "execution_count": 34,
      "outputs": [
        {
          "output_type": "execute_result",
          "data": {
            "text/html": [
              "<div>\n",
              "<style scoped>\n",
              "    .dataframe tbody tr th:only-of-type {\n",
              "        vertical-align: middle;\n",
              "    }\n",
              "\n",
              "    .dataframe tbody tr th {\n",
              "        vertical-align: top;\n",
              "    }\n",
              "\n",
              "    .dataframe thead th {\n",
              "        text-align: right;\n",
              "    }\n",
              "</style>\n",
              "<table border=\"1\" class=\"dataframe\">\n",
              "  <thead>\n",
              "    <tr style=\"text-align: right;\">\n",
              "      <th></th>\n",
              "      <th>sex</th>\n",
              "      <th>age</th>\n",
              "      <th>education</th>\n",
              "      <th>currentSmoker</th>\n",
              "      <th>cigsPerDay</th>\n",
              "      <th>BPMeds</th>\n",
              "      <th>prevalentStroke</th>\n",
              "      <th>prevalentHyp</th>\n",
              "      <th>diabetes</th>\n",
              "      <th>totChol</th>\n",
              "      <th>sysBP</th>\n",
              "      <th>diaBP</th>\n",
              "      <th>BMI</th>\n",
              "      <th>heartRate</th>\n",
              "      <th>glucose</th>\n",
              "      <th>TenYearCHD</th>\n",
              "    </tr>\n",
              "  </thead>\n",
              "  <tbody>\n",
              "    <tr>\n",
              "      <th>0</th>\n",
              "      <td>1</td>\n",
              "      <td>39</td>\n",
              "      <td>4.0</td>\n",
              "      <td>0</td>\n",
              "      <td>0.0</td>\n",
              "      <td>0.0</td>\n",
              "      <td>0</td>\n",
              "      <td>0</td>\n",
              "      <td>0</td>\n",
              "      <td>195.0</td>\n",
              "      <td>106.0</td>\n",
              "      <td>70.0</td>\n",
              "      <td>26.97</td>\n",
              "      <td>80.0</td>\n",
              "      <td>77.0</td>\n",
              "      <td>0</td>\n",
              "    </tr>\n",
              "    <tr>\n",
              "      <th>1</th>\n",
              "      <td>0</td>\n",
              "      <td>46</td>\n",
              "      <td>2.0</td>\n",
              "      <td>0</td>\n",
              "      <td>0.0</td>\n",
              "      <td>0.0</td>\n",
              "      <td>0</td>\n",
              "      <td>0</td>\n",
              "      <td>0</td>\n",
              "      <td>250.0</td>\n",
              "      <td>121.0</td>\n",
              "      <td>81.0</td>\n",
              "      <td>28.73</td>\n",
              "      <td>95.0</td>\n",
              "      <td>76.0</td>\n",
              "      <td>0</td>\n",
              "    </tr>\n",
              "    <tr>\n",
              "      <th>2</th>\n",
              "      <td>1</td>\n",
              "      <td>48</td>\n",
              "      <td>1.0</td>\n",
              "      <td>1</td>\n",
              "      <td>20.0</td>\n",
              "      <td>0.0</td>\n",
              "      <td>0</td>\n",
              "      <td>0</td>\n",
              "      <td>0</td>\n",
              "      <td>245.0</td>\n",
              "      <td>127.5</td>\n",
              "      <td>80.0</td>\n",
              "      <td>25.34</td>\n",
              "      <td>75.0</td>\n",
              "      <td>70.0</td>\n",
              "      <td>0</td>\n",
              "    </tr>\n",
              "    <tr>\n",
              "      <th>3</th>\n",
              "      <td>0</td>\n",
              "      <td>61</td>\n",
              "      <td>3.0</td>\n",
              "      <td>1</td>\n",
              "      <td>30.0</td>\n",
              "      <td>0.0</td>\n",
              "      <td>0</td>\n",
              "      <td>1</td>\n",
              "      <td>0</td>\n",
              "      <td>225.0</td>\n",
              "      <td>150.0</td>\n",
              "      <td>95.0</td>\n",
              "      <td>28.58</td>\n",
              "      <td>65.0</td>\n",
              "      <td>103.0</td>\n",
              "      <td>1</td>\n",
              "    </tr>\n",
              "    <tr>\n",
              "      <th>4</th>\n",
              "      <td>0</td>\n",
              "      <td>46</td>\n",
              "      <td>3.0</td>\n",
              "      <td>1</td>\n",
              "      <td>23.0</td>\n",
              "      <td>0.0</td>\n",
              "      <td>0</td>\n",
              "      <td>0</td>\n",
              "      <td>0</td>\n",
              "      <td>285.0</td>\n",
              "      <td>130.0</td>\n",
              "      <td>84.0</td>\n",
              "      <td>23.10</td>\n",
              "      <td>85.0</td>\n",
              "      <td>85.0</td>\n",
              "      <td>0</td>\n",
              "    </tr>\n",
              "    <tr>\n",
              "      <th>...</th>\n",
              "      <td>...</td>\n",
              "      <td>...</td>\n",
              "      <td>...</td>\n",
              "      <td>...</td>\n",
              "      <td>...</td>\n",
              "      <td>...</td>\n",
              "      <td>...</td>\n",
              "      <td>...</td>\n",
              "      <td>...</td>\n",
              "      <td>...</td>\n",
              "      <td>...</td>\n",
              "      <td>...</td>\n",
              "      <td>...</td>\n",
              "      <td>...</td>\n",
              "      <td>...</td>\n",
              "      <td>...</td>\n",
              "    </tr>\n",
              "    <tr>\n",
              "      <th>4233</th>\n",
              "      <td>1</td>\n",
              "      <td>50</td>\n",
              "      <td>1.0</td>\n",
              "      <td>1</td>\n",
              "      <td>1.0</td>\n",
              "      <td>0.0</td>\n",
              "      <td>0</td>\n",
              "      <td>1</td>\n",
              "      <td>0</td>\n",
              "      <td>313.0</td>\n",
              "      <td>179.0</td>\n",
              "      <td>92.0</td>\n",
              "      <td>25.97</td>\n",
              "      <td>66.0</td>\n",
              "      <td>86.0</td>\n",
              "      <td>1</td>\n",
              "    </tr>\n",
              "    <tr>\n",
              "      <th>4234</th>\n",
              "      <td>1</td>\n",
              "      <td>51</td>\n",
              "      <td>3.0</td>\n",
              "      <td>1</td>\n",
              "      <td>43.0</td>\n",
              "      <td>0.0</td>\n",
              "      <td>0</td>\n",
              "      <td>0</td>\n",
              "      <td>0</td>\n",
              "      <td>207.0</td>\n",
              "      <td>126.5</td>\n",
              "      <td>80.0</td>\n",
              "      <td>19.71</td>\n",
              "      <td>65.0</td>\n",
              "      <td>68.0</td>\n",
              "      <td>0</td>\n",
              "    </tr>\n",
              "    <tr>\n",
              "      <th>4235</th>\n",
              "      <td>0</td>\n",
              "      <td>48</td>\n",
              "      <td>2.0</td>\n",
              "      <td>1</td>\n",
              "      <td>20.0</td>\n",
              "      <td>NaN</td>\n",
              "      <td>0</td>\n",
              "      <td>0</td>\n",
              "      <td>0</td>\n",
              "      <td>248.0</td>\n",
              "      <td>131.0</td>\n",
              "      <td>72.0</td>\n",
              "      <td>22.00</td>\n",
              "      <td>84.0</td>\n",
              "      <td>86.0</td>\n",
              "      <td>0</td>\n",
              "    </tr>\n",
              "    <tr>\n",
              "      <th>4236</th>\n",
              "      <td>0</td>\n",
              "      <td>44</td>\n",
              "      <td>1.0</td>\n",
              "      <td>1</td>\n",
              "      <td>15.0</td>\n",
              "      <td>0.0</td>\n",
              "      <td>0</td>\n",
              "      <td>0</td>\n",
              "      <td>0</td>\n",
              "      <td>210.0</td>\n",
              "      <td>126.5</td>\n",
              "      <td>87.0</td>\n",
              "      <td>19.16</td>\n",
              "      <td>86.0</td>\n",
              "      <td>NaN</td>\n",
              "      <td>0</td>\n",
              "    </tr>\n",
              "    <tr>\n",
              "      <th>4237</th>\n",
              "      <td>0</td>\n",
              "      <td>52</td>\n",
              "      <td>2.0</td>\n",
              "      <td>0</td>\n",
              "      <td>0.0</td>\n",
              "      <td>0.0</td>\n",
              "      <td>0</td>\n",
              "      <td>0</td>\n",
              "      <td>0</td>\n",
              "      <td>269.0</td>\n",
              "      <td>133.5</td>\n",
              "      <td>83.0</td>\n",
              "      <td>21.47</td>\n",
              "      <td>80.0</td>\n",
              "      <td>107.0</td>\n",
              "      <td>0</td>\n",
              "    </tr>\n",
              "  </tbody>\n",
              "</table>\n",
              "<p>4238 rows × 16 columns</p>\n",
              "</div>"
            ],
            "text/plain": [
              "      sex  age  education  currentSmoker  ...    BMI  heartRate  glucose  TenYearCHD\n",
              "0       1   39        4.0              0  ...  26.97       80.0     77.0           0\n",
              "1       0   46        2.0              0  ...  28.73       95.0     76.0           0\n",
              "2       1   48        1.0              1  ...  25.34       75.0     70.0           0\n",
              "3       0   61        3.0              1  ...  28.58       65.0    103.0           1\n",
              "4       0   46        3.0              1  ...  23.10       85.0     85.0           0\n",
              "...   ...  ...        ...            ...  ...    ...        ...      ...         ...\n",
              "4233    1   50        1.0              1  ...  25.97       66.0     86.0           1\n",
              "4234    1   51        3.0              1  ...  19.71       65.0     68.0           0\n",
              "4235    0   48        2.0              1  ...  22.00       84.0     86.0           0\n",
              "4236    0   44        1.0              1  ...  19.16       86.0      NaN           0\n",
              "4237    0   52        2.0              0  ...  21.47       80.0    107.0           0\n",
              "\n",
              "[4238 rows x 16 columns]"
            ]
          },
          "metadata": {
            "tags": []
          },
          "execution_count": 34
        }
      ]
    },
    {
      "cell_type": "markdown",
      "metadata": {
        "id": "yhq5VyNCvIPK"
      },
      "source": [
        "# DataCleaning - General"
      ]
    },
    {
      "cell_type": "code",
      "metadata": {
        "colab": {
          "base_uri": "https://localhost:8080/"
        },
        "id": "JMgkpiCeLju9",
        "outputId": "02d6537e-691b-48c5-d20c-003e5d0df682"
      },
      "source": [
        "#create AgeRange categories to fill nan values by category\n",
        "bins = [0, 30, 40, 50, 60, 70, np.inf]\n",
        "labels = ['0-30', '30-40', '40-50', '50-60', '60-70', '70+']\n",
        "\n",
        "df['AgeRange'] = pd.cut(df['age'], bins, labels=labels)\n",
        "\n",
        "print(df.dtypes)\n",
        "print(df)"
      ],
      "execution_count": 35,
      "outputs": [
        {
          "output_type": "stream",
          "text": [
            "sex                   int64\n",
            "age                   int64\n",
            "education           float64\n",
            "currentSmoker         int64\n",
            "cigsPerDay          float64\n",
            "BPMeds              float64\n",
            "prevalentStroke       int64\n",
            "prevalentHyp          int64\n",
            "diabetes              int64\n",
            "totChol             float64\n",
            "sysBP               float64\n",
            "diaBP               float64\n",
            "BMI                 float64\n",
            "heartRate           float64\n",
            "glucose             float64\n",
            "TenYearCHD            int64\n",
            "AgeRange           category\n",
            "dtype: object\n",
            "      sex  age  education  ...  glucose  TenYearCHD  AgeRange\n",
            "0       1   39        4.0  ...     77.0           0     30-40\n",
            "1       0   46        2.0  ...     76.0           0     40-50\n",
            "2       1   48        1.0  ...     70.0           0     40-50\n",
            "3       0   61        3.0  ...    103.0           1     60-70\n",
            "4       0   46        3.0  ...     85.0           0     40-50\n",
            "...   ...  ...        ...  ...      ...         ...       ...\n",
            "4233    1   50        1.0  ...     86.0           1     40-50\n",
            "4234    1   51        3.0  ...     68.0           0     50-60\n",
            "4235    0   48        2.0  ...     86.0           0     40-50\n",
            "4236    0   44        1.0  ...      NaN           0     40-50\n",
            "4237    0   52        2.0  ...    107.0           0     50-60\n",
            "\n",
            "[4238 rows x 17 columns]\n"
          ],
          "name": "stdout"
        }
      ]
    },
    {
      "cell_type": "code",
      "metadata": {
        "colab": {
          "base_uri": "https://localhost:8080/"
        },
        "id": "mVFSlJGPCR_Q",
        "outputId": "e59f17c8-6078-4481-9d96-8f4d5858699e"
      },
      "source": [
        "df.shape\n",
        "print(df.isnull().sum())\n"
      ],
      "execution_count": 36,
      "outputs": [
        {
          "output_type": "stream",
          "text": [
            "sex                  0\n",
            "age                  0\n",
            "education          105\n",
            "currentSmoker        0\n",
            "cigsPerDay          29\n",
            "BPMeds              53\n",
            "prevalentStroke      0\n",
            "prevalentHyp         0\n",
            "diabetes             0\n",
            "totChol             50\n",
            "sysBP                0\n",
            "diaBP                0\n",
            "BMI                 19\n",
            "heartRate            1\n",
            "glucose            388\n",
            "TenYearCHD           0\n",
            "AgeRange             0\n",
            "dtype: int64\n"
          ],
          "name": "stdout"
        }
      ]
    },
    {
      "cell_type": "markdown",
      "metadata": {
        "id": "IHWzIaZ8u2LR"
      },
      "source": [
        "# DataCleaning - BPMeds, CigsperDay, totChol"
      ]
    },
    {
      "cell_type": "code",
      "metadata": {
        "id": "M4NjRWFSHecQ",
        "colab": {
          "base_uri": "https://localhost:8080/"
        },
        "outputId": "6c94a7d5-69c4-44ed-dd0c-511442991acc"
      },
      "source": [
        "print(df.BPMeds.value_counts())\n",
        "# fill NaN values in BPMeds column with 0 \n",
        "df.BPMeds.fillna(0,inplace=True)\n"
      ],
      "execution_count": 37,
      "outputs": [
        {
          "output_type": "stream",
          "text": [
            "0.0    4061\n",
            "1.0     124\n",
            "Name: BPMeds, dtype: int64\n"
          ],
          "name": "stdout"
        }
      ]
    },
    {
      "cell_type": "code",
      "metadata": {
        "colab": {
          "base_uri": "https://localhost:8080/"
        },
        "id": "BU9An4n7wAbA",
        "outputId": "ad31ec5d-512f-4cbd-eeb7-72b1f1952bc1"
      },
      "source": [
        "#cigs per day\n",
        "null_data_cpd = df[df.isnull().cigsPerDay]\n",
        "print(null_data_cpd[[\"currentSmoker\",\"cigsPerDay\",\"AgeRange\"]])\n",
        "#all the missing values of cigsperday are from people who are actually smoking, so we can fill missing values with mean of smokers\n",
        "df.cigsPerDay.fillna(df.cigsPerDay.mean(),inplace=True)\n",
        "\n",
        "#totChol\n",
        "#fill the missing values with the mean\n",
        "df.totChol.fillna(df.totChol.mean(),inplace=True)"
      ],
      "execution_count": 38,
      "outputs": [
        {
          "output_type": "stream",
          "text": [
            "      currentSmoker  cigsPerDay AgeRange\n",
            "131               1         NaN    40-50\n",
            "139               1         NaN    40-50\n",
            "1046              1         NaN    40-50\n",
            "1292              1         NaN    40-50\n",
            "1347              1         NaN    50-60\n",
            "1451              1         NaN    50-60\n",
            "1497              1         NaN    50-60\n",
            "1610              1         NaN    60-70\n",
            "1625              1         NaN    40-50\n",
            "1870              1         NaN    40-50\n",
            "1963              1         NaN    40-50\n",
            "1980              1         NaN    50-60\n",
            "2405              1         NaN    40-50\n",
            "2513              1         NaN    40-50\n",
            "2542              1         NaN    50-60\n",
            "3021              1         NaN    50-60\n",
            "3034              1         NaN    50-60\n",
            "3094              1         NaN    40-50\n",
            "3106              1         NaN    40-50\n",
            "3108              1         NaN    30-40\n",
            "3156              1         NaN    30-40\n",
            "3177              1         NaN    40-50\n",
            "3309              1         NaN    50-60\n",
            "3432              1         NaN    50-60\n",
            "3579              1         NaN    40-50\n",
            "3715              1         NaN    50-60\n",
            "3847              1         NaN    40-50\n",
            "3924              1         NaN    50-60\n",
            "3942              1         NaN    30-40\n"
          ],
          "name": "stdout"
        }
      ]
    },
    {
      "cell_type": "markdown",
      "metadata": {
        "id": "w2AY5J_LulRQ"
      },
      "source": [
        "# DataCleaning - Heart Rate"
      ]
    },
    {
      "cell_type": "code",
      "metadata": {
        "colab": {
          "base_uri": "https://localhost:8080/"
        },
        "id": "N03Ibv9YCcgx",
        "outputId": "8921217d-d4f9-4749-9d55-ecf4f44b43a1"
      },
      "source": [
        "#heartrate\n",
        "df.dropna(subset = [\"heartRate\"], inplace=True)\n",
        "print(df.isnull().sum())\n"
      ],
      "execution_count": 39,
      "outputs": [
        {
          "output_type": "stream",
          "text": [
            "sex                  0\n",
            "age                  0\n",
            "education          105\n",
            "currentSmoker        0\n",
            "cigsPerDay           0\n",
            "BPMeds               0\n",
            "prevalentStroke      0\n",
            "prevalentHyp         0\n",
            "diabetes             0\n",
            "totChol              0\n",
            "sysBP                0\n",
            "diaBP                0\n",
            "BMI                 19\n",
            "heartRate            0\n",
            "glucose            388\n",
            "TenYearCHD           0\n",
            "AgeRange             0\n",
            "dtype: int64\n"
          ],
          "name": "stdout"
        }
      ]
    },
    {
      "cell_type": "markdown",
      "metadata": {
        "id": "VA6cxE_QutdQ"
      },
      "source": [
        "# DataCleaning - Eductaion, BMI"
      ]
    },
    {
      "cell_type": "code",
      "metadata": {
        "colab": {
          "base_uri": "https://localhost:8080/",
          "height": 0
        },
        "id": "570xhkzwDbNl",
        "outputId": "2a09ebf3-51b6-49ab-82cc-44f231ccd952"
      },
      "source": [
        "#set education to 1\n",
        "df.loc[:,'education'] = '1'\n",
        "df.head()"
      ],
      "execution_count": 40,
      "outputs": [
        {
          "output_type": "execute_result",
          "data": {
            "text/html": [
              "<div>\n",
              "<style scoped>\n",
              "    .dataframe tbody tr th:only-of-type {\n",
              "        vertical-align: middle;\n",
              "    }\n",
              "\n",
              "    .dataframe tbody tr th {\n",
              "        vertical-align: top;\n",
              "    }\n",
              "\n",
              "    .dataframe thead th {\n",
              "        text-align: right;\n",
              "    }\n",
              "</style>\n",
              "<table border=\"1\" class=\"dataframe\">\n",
              "  <thead>\n",
              "    <tr style=\"text-align: right;\">\n",
              "      <th></th>\n",
              "      <th>sex</th>\n",
              "      <th>age</th>\n",
              "      <th>education</th>\n",
              "      <th>currentSmoker</th>\n",
              "      <th>cigsPerDay</th>\n",
              "      <th>BPMeds</th>\n",
              "      <th>prevalentStroke</th>\n",
              "      <th>prevalentHyp</th>\n",
              "      <th>diabetes</th>\n",
              "      <th>totChol</th>\n",
              "      <th>sysBP</th>\n",
              "      <th>diaBP</th>\n",
              "      <th>BMI</th>\n",
              "      <th>heartRate</th>\n",
              "      <th>glucose</th>\n",
              "      <th>TenYearCHD</th>\n",
              "      <th>AgeRange</th>\n",
              "    </tr>\n",
              "  </thead>\n",
              "  <tbody>\n",
              "    <tr>\n",
              "      <th>0</th>\n",
              "      <td>1</td>\n",
              "      <td>39</td>\n",
              "      <td>1</td>\n",
              "      <td>0</td>\n",
              "      <td>0.0</td>\n",
              "      <td>0.0</td>\n",
              "      <td>0</td>\n",
              "      <td>0</td>\n",
              "      <td>0</td>\n",
              "      <td>195.0</td>\n",
              "      <td>106.0</td>\n",
              "      <td>70.0</td>\n",
              "      <td>26.97</td>\n",
              "      <td>80.0</td>\n",
              "      <td>77.0</td>\n",
              "      <td>0</td>\n",
              "      <td>30-40</td>\n",
              "    </tr>\n",
              "    <tr>\n",
              "      <th>1</th>\n",
              "      <td>0</td>\n",
              "      <td>46</td>\n",
              "      <td>1</td>\n",
              "      <td>0</td>\n",
              "      <td>0.0</td>\n",
              "      <td>0.0</td>\n",
              "      <td>0</td>\n",
              "      <td>0</td>\n",
              "      <td>0</td>\n",
              "      <td>250.0</td>\n",
              "      <td>121.0</td>\n",
              "      <td>81.0</td>\n",
              "      <td>28.73</td>\n",
              "      <td>95.0</td>\n",
              "      <td>76.0</td>\n",
              "      <td>0</td>\n",
              "      <td>40-50</td>\n",
              "    </tr>\n",
              "    <tr>\n",
              "      <th>2</th>\n",
              "      <td>1</td>\n",
              "      <td>48</td>\n",
              "      <td>1</td>\n",
              "      <td>1</td>\n",
              "      <td>20.0</td>\n",
              "      <td>0.0</td>\n",
              "      <td>0</td>\n",
              "      <td>0</td>\n",
              "      <td>0</td>\n",
              "      <td>245.0</td>\n",
              "      <td>127.5</td>\n",
              "      <td>80.0</td>\n",
              "      <td>25.34</td>\n",
              "      <td>75.0</td>\n",
              "      <td>70.0</td>\n",
              "      <td>0</td>\n",
              "      <td>40-50</td>\n",
              "    </tr>\n",
              "    <tr>\n",
              "      <th>3</th>\n",
              "      <td>0</td>\n",
              "      <td>61</td>\n",
              "      <td>1</td>\n",
              "      <td>1</td>\n",
              "      <td>30.0</td>\n",
              "      <td>0.0</td>\n",
              "      <td>0</td>\n",
              "      <td>1</td>\n",
              "      <td>0</td>\n",
              "      <td>225.0</td>\n",
              "      <td>150.0</td>\n",
              "      <td>95.0</td>\n",
              "      <td>28.58</td>\n",
              "      <td>65.0</td>\n",
              "      <td>103.0</td>\n",
              "      <td>1</td>\n",
              "      <td>60-70</td>\n",
              "    </tr>\n",
              "    <tr>\n",
              "      <th>4</th>\n",
              "      <td>0</td>\n",
              "      <td>46</td>\n",
              "      <td>1</td>\n",
              "      <td>1</td>\n",
              "      <td>23.0</td>\n",
              "      <td>0.0</td>\n",
              "      <td>0</td>\n",
              "      <td>0</td>\n",
              "      <td>0</td>\n",
              "      <td>285.0</td>\n",
              "      <td>130.0</td>\n",
              "      <td>84.0</td>\n",
              "      <td>23.10</td>\n",
              "      <td>85.0</td>\n",
              "      <td>85.0</td>\n",
              "      <td>0</td>\n",
              "      <td>40-50</td>\n",
              "    </tr>\n",
              "  </tbody>\n",
              "</table>\n",
              "</div>"
            ],
            "text/plain": [
              "   sex  age education  currentSmoker  ...  heartRate  glucose  TenYearCHD  AgeRange\n",
              "0    1   39         1              0  ...       80.0     77.0           0     30-40\n",
              "1    0   46         1              0  ...       95.0     76.0           0     40-50\n",
              "2    1   48         1              1  ...       75.0     70.0           0     40-50\n",
              "3    0   61         1              1  ...       65.0    103.0           1     60-70\n",
              "4    0   46         1              1  ...       85.0     85.0           0     40-50\n",
              "\n",
              "[5 rows x 17 columns]"
            ]
          },
          "metadata": {
            "tags": []
          },
          "execution_count": 40
        }
      ]
    },
    {
      "cell_type": "code",
      "metadata": {
        "colab": {
          "base_uri": "https://localhost:8080/"
        },
        "id": "38NxFWm1xF_o",
        "outputId": "bae065ae-aee1-4bd0-a760-240c4b42b050"
      },
      "source": [
        "#fill missing values of BMI with mean value of the category\n",
        "null_data_BMI = df[df.isnull().BMI]\n",
        "print(null_data_BMI[[\"sex\",\"BMI\",\"AgeRange\"]])\n",
        "\n"
      ],
      "execution_count": 41,
      "outputs": [
        {
          "output_type": "stream",
          "text": [
            "      sex  BMI AgeRange\n",
            "97      0  NaN    30-40\n",
            "294     0  NaN    40-50\n",
            "705     0  NaN    40-50\n",
            "1155    0  NaN    60-70\n",
            "1161    0  NaN    40-50\n",
            "1594    0  NaN    30-40\n",
            "1604    1  NaN    30-40\n",
            "1624    0  NaN    60-70\n",
            "1747    0  NaN    50-60\n",
            "1975    1  NaN    60-70\n",
            "2048    0  NaN    30-40\n",
            "2067    0  NaN    50-60\n",
            "2091    1  NaN    60-70\n",
            "2177    0  NaN    50-60\n",
            "2529    0  NaN    30-40\n",
            "2719    1  NaN    30-40\n",
            "2925    1  NaN    60-70\n",
            "3090    0  NaN    60-70\n",
            "3339    0  NaN    60-70\n"
          ],
          "name": "stdout"
        }
      ]
    },
    {
      "cell_type": "code",
      "metadata": {
        "colab": {
          "base_uri": "https://localhost:8080/"
        },
        "id": "CnLvlNO-zxWg",
        "outputId": "90a2fc8b-4ecd-4050-c2c4-225e34ce55c5"
      },
      "source": [
        "df.groupby('AgeRange')['BMI'].mean()"
      ],
      "execution_count": 42,
      "outputs": [
        {
          "output_type": "execute_result",
          "data": {
            "text/plain": [
              "AgeRange\n",
              "0-30           NaN\n",
              "30-40    24.971649\n",
              "40-50    25.511270\n",
              "50-60    26.266795\n",
              "60-70    26.630753\n",
              "70+            NaN\n",
              "Name: BMI, dtype: float64"
            ]
          },
          "metadata": {
            "tags": []
          },
          "execution_count": 42
        }
      ]
    },
    {
      "cell_type": "code",
      "metadata": {
        "colab": {
          "base_uri": "https://localhost:8080/",
          "height": 0
        },
        "id": "sUIP1w1Du43f",
        "outputId": "64f62139-385d-47f1-cbb7-726eff0b814b"
      },
      "source": [
        "#Category 30-40\n",
        "df.loc[(df['AgeRange']==\"30-40\"), 'BMI'].mean()\n",
        "df.loc[(df['AgeRange']==\"30-40\"), 'BMI'] = df.BMI.fillna(df.loc[(df['AgeRange']==\"30-40\"), 'BMI'].mean())\n",
        "print(df[df['AgeRange'] == '30-40'].isnull().sum())\n",
        "df[df['AgeRange'] == '30-40'].head()\n"
      ],
      "execution_count": 43,
      "outputs": [
        {
          "output_type": "stream",
          "text": [
            "sex                 0\n",
            "age                 0\n",
            "education           0\n",
            "currentSmoker       0\n",
            "cigsPerDay          0\n",
            "BPMeds              0\n",
            "prevalentStroke     0\n",
            "prevalentHyp        0\n",
            "diabetes            0\n",
            "totChol             0\n",
            "sysBP               0\n",
            "diaBP               0\n",
            "BMI                 0\n",
            "heartRate           0\n",
            "glucose            70\n",
            "TenYearCHD          0\n",
            "AgeRange            0\n",
            "dtype: int64\n"
          ],
          "name": "stdout"
        },
        {
          "output_type": "execute_result",
          "data": {
            "text/html": [
              "<div>\n",
              "<style scoped>\n",
              "    .dataframe tbody tr th:only-of-type {\n",
              "        vertical-align: middle;\n",
              "    }\n",
              "\n",
              "    .dataframe tbody tr th {\n",
              "        vertical-align: top;\n",
              "    }\n",
              "\n",
              "    .dataframe thead th {\n",
              "        text-align: right;\n",
              "    }\n",
              "</style>\n",
              "<table border=\"1\" class=\"dataframe\">\n",
              "  <thead>\n",
              "    <tr style=\"text-align: right;\">\n",
              "      <th></th>\n",
              "      <th>sex</th>\n",
              "      <th>age</th>\n",
              "      <th>education</th>\n",
              "      <th>currentSmoker</th>\n",
              "      <th>cigsPerDay</th>\n",
              "      <th>BPMeds</th>\n",
              "      <th>prevalentStroke</th>\n",
              "      <th>prevalentHyp</th>\n",
              "      <th>diabetes</th>\n",
              "      <th>totChol</th>\n",
              "      <th>sysBP</th>\n",
              "      <th>diaBP</th>\n",
              "      <th>BMI</th>\n",
              "      <th>heartRate</th>\n",
              "      <th>glucose</th>\n",
              "      <th>TenYearCHD</th>\n",
              "      <th>AgeRange</th>\n",
              "    </tr>\n",
              "  </thead>\n",
              "  <tbody>\n",
              "    <tr>\n",
              "      <th>0</th>\n",
              "      <td>1</td>\n",
              "      <td>39</td>\n",
              "      <td>1</td>\n",
              "      <td>0</td>\n",
              "      <td>0.0</td>\n",
              "      <td>0.0</td>\n",
              "      <td>0</td>\n",
              "      <td>0</td>\n",
              "      <td>0</td>\n",
              "      <td>195.0</td>\n",
              "      <td>106.0</td>\n",
              "      <td>70.0</td>\n",
              "      <td>26.97</td>\n",
              "      <td>80.0</td>\n",
              "      <td>77.0</td>\n",
              "      <td>0</td>\n",
              "      <td>30-40</td>\n",
              "    </tr>\n",
              "    <tr>\n",
              "      <th>14</th>\n",
              "      <td>0</td>\n",
              "      <td>39</td>\n",
              "      <td>1</td>\n",
              "      <td>1</td>\n",
              "      <td>9.0</td>\n",
              "      <td>0.0</td>\n",
              "      <td>0</td>\n",
              "      <td>0</td>\n",
              "      <td>0</td>\n",
              "      <td>226.0</td>\n",
              "      <td>114.0</td>\n",
              "      <td>64.0</td>\n",
              "      <td>22.35</td>\n",
              "      <td>85.0</td>\n",
              "      <td>NaN</td>\n",
              "      <td>0</td>\n",
              "      <td>30-40</td>\n",
              "    </tr>\n",
              "    <tr>\n",
              "      <th>15</th>\n",
              "      <td>0</td>\n",
              "      <td>38</td>\n",
              "      <td>1</td>\n",
              "      <td>1</td>\n",
              "      <td>20.0</td>\n",
              "      <td>0.0</td>\n",
              "      <td>0</td>\n",
              "      <td>1</td>\n",
              "      <td>0</td>\n",
              "      <td>221.0</td>\n",
              "      <td>140.0</td>\n",
              "      <td>90.0</td>\n",
              "      <td>21.35</td>\n",
              "      <td>95.0</td>\n",
              "      <td>70.0</td>\n",
              "      <td>1</td>\n",
              "      <td>30-40</td>\n",
              "    </tr>\n",
              "    <tr>\n",
              "      <th>18</th>\n",
              "      <td>0</td>\n",
              "      <td>38</td>\n",
              "      <td>1</td>\n",
              "      <td>1</td>\n",
              "      <td>5.0</td>\n",
              "      <td>0.0</td>\n",
              "      <td>0</td>\n",
              "      <td>0</td>\n",
              "      <td>0</td>\n",
              "      <td>195.0</td>\n",
              "      <td>122.0</td>\n",
              "      <td>84.5</td>\n",
              "      <td>23.24</td>\n",
              "      <td>75.0</td>\n",
              "      <td>78.0</td>\n",
              "      <td>0</td>\n",
              "      <td>30-40</td>\n",
              "    </tr>\n",
              "    <tr>\n",
              "      <th>27</th>\n",
              "      <td>1</td>\n",
              "      <td>35</td>\n",
              "      <td>1</td>\n",
              "      <td>1</td>\n",
              "      <td>20.0</td>\n",
              "      <td>0.0</td>\n",
              "      <td>0</td>\n",
              "      <td>1</td>\n",
              "      <td>0</td>\n",
              "      <td>225.0</td>\n",
              "      <td>132.0</td>\n",
              "      <td>91.0</td>\n",
              "      <td>26.09</td>\n",
              "      <td>73.0</td>\n",
              "      <td>83.0</td>\n",
              "      <td>0</td>\n",
              "      <td>30-40</td>\n",
              "    </tr>\n",
              "  </tbody>\n",
              "</table>\n",
              "</div>"
            ],
            "text/plain": [
              "    sex  age education  currentSmoker  ...  heartRate  glucose  TenYearCHD  AgeRange\n",
              "0     1   39         1              0  ...       80.0     77.0           0     30-40\n",
              "14    0   39         1              1  ...       85.0      NaN           0     30-40\n",
              "15    0   38         1              1  ...       95.0     70.0           1     30-40\n",
              "18    0   38         1              1  ...       75.0     78.0           0     30-40\n",
              "27    1   35         1              1  ...       73.0     83.0           0     30-40\n",
              "\n",
              "[5 rows x 17 columns]"
            ]
          },
          "metadata": {
            "tags": []
          },
          "execution_count": 43
        }
      ]
    },
    {
      "cell_type": "code",
      "metadata": {
        "colab": {
          "base_uri": "https://localhost:8080/"
        },
        "id": "Chy7tAlG1qcb",
        "outputId": "2bf854c6-877d-4069-f884-be2aea6e4f07"
      },
      "source": [
        "#Category 40-50\n",
        "df.loc[(df['AgeRange']==\"40-50\"), 'BMI'].mean()\n",
        "df.loc[(df['AgeRange']==\"40-50\"), 'BMI'] = df.BMI.fillna(df.loc[(df['AgeRange']==\"40-50\"), 'BMI'].mean())\n",
        "\n",
        "#Category 50-60\n",
        "df.loc[(df['AgeRange']==\"50-60\"), 'BMI'].mean()\n",
        "df.loc[(df['AgeRange']==\"50-60\"), 'BMI'] = df.BMI.fillna(df.loc[(df['AgeRange']==\"50-60\"), 'BMI'].mean())\n",
        "\n",
        "#Category 60-70\n",
        "df.loc[(df['AgeRange']==\"60-70\"), 'BMI'].mean()\n",
        "df.loc[(df['AgeRange']==\"60-70\"), 'BMI'] = df.BMI.fillna(df.loc[(df['AgeRange']==\"60-70\"), 'BMI'].mean())\n",
        "\n",
        "print(df.isnull().sum())\n",
        "\n",
        "\n"
      ],
      "execution_count": 44,
      "outputs": [
        {
          "output_type": "stream",
          "text": [
            "sex                  0\n",
            "age                  0\n",
            "education            0\n",
            "currentSmoker        0\n",
            "cigsPerDay           0\n",
            "BPMeds               0\n",
            "prevalentStroke      0\n",
            "prevalentHyp         0\n",
            "diabetes             0\n",
            "totChol              0\n",
            "sysBP                0\n",
            "diaBP                0\n",
            "BMI                  0\n",
            "heartRate            0\n",
            "glucose            388\n",
            "TenYearCHD           0\n",
            "AgeRange             0\n",
            "dtype: int64\n"
          ],
          "name": "stdout"
        }
      ]
    },
    {
      "cell_type": "markdown",
      "metadata": {
        "id": "_LWrlLkjuHeS"
      },
      "source": [
        "# K Nearest Neighbors for glucose"
      ]
    },
    {
      "cell_type": "code",
      "metadata": {
        "colab": {
          "base_uri": "https://localhost:8080/"
        },
        "id": "AMcSsW-bSx3Q",
        "outputId": "51e4203d-f200-4e38-ceb8-d4e2598a6754"
      },
      "source": [
        "#save missing values of glucose in seperate dataset\n",
        "null_data_glucose = df[df.isnull().glucose]\n",
        "null_data_glucose = null_data_glucose.drop(\"AgeRange\", axis=1)\n",
        "null_data_glucose = null_data_glucose.drop(\"TenYearCHD\", axis=1)\n",
        "null_data_glucose = null_data_glucose.drop(\"glucose\", axis=1)\n",
        "null_data_glucose = null_data_glucose.values\n",
        "print(null_data_glucose)"
      ],
      "execution_count": 52,
      "outputs": [
        {
          "output_type": "stream",
          "text": [
            "[[0 39 '1' ... 64.0 22.35 85.0]\n",
            " [0 43 '1' ... 77.5 29.89 70.0]\n",
            " [0 60 '1' ... 72.5 26.59 65.0]\n",
            " ...\n",
            " [0 51 '1' ... 80.0 25.6 75.0]\n",
            " [0 56 '1' ... 102.0 22.89 57.0]\n",
            " [0 44 '1' ... 87.0 19.16 86.0]]\n"
          ],
          "name": "stdout"
        }
      ]
    },
    {
      "cell_type": "code",
      "metadata": {
        "id": "MzA2o6VU-2Ym",
        "colab": {
          "base_uri": "https://localhost:8080/"
        },
        "outputId": "d4e7a8bb-02f4-4711-edb7-8b40f034e6b3"
      },
      "source": [
        "#k-neartes neighbors\n",
        "from sklearn.neighbors import NearestNeighbors\n",
        "from sklearn.neighbors import KNeighborsRegressor\n",
        "df_train = df.drop(columns=[\"AgeRange\",\"TenYearCHD\"], axis=1)\n",
        "df_train = df_train.dropna()\n",
        "\n",
        "#define distances on the vectors of the independent variables, so first get pandas DataFrame into a NumPy array\n",
        "X = df_train.drop(\"glucose\", axis=1)\n",
        "X = X.values    #independet variables\n",
        "y = df_train[\"glucose\"]\n",
        "y = y.values  #dependet variable of the model\n",
        "\n",
        "print(X.shape, y.shape)"
      ],
      "execution_count": 59,
      "outputs": [
        {
          "output_type": "stream",
          "text": [
            "(3849, 14) (3849,)\n"
          ],
          "name": "stdout"
        }
      ]
    },
    {
      "cell_type": "code",
      "metadata": {
        "id": "c4rLpZ9zSrzu",
        "colab": {
          "base_uri": "https://localhost:8080/"
        },
        "outputId": "6eaf528e-1e37-40f6-8fa8-b6e5d022241d"
      },
      "source": [
        "from sklearn.model_selection import train_test_split\n",
        "X_train, X_test, y_train, y_test = train_test_split(X, y, test_size=0.2, random_state=12345)\n",
        "print(X_test.shape, y_test.shape)"
      ],
      "execution_count": 47,
      "outputs": [
        {
          "output_type": "stream",
          "text": [
            "(770, 15) (770,)\n"
          ],
          "name": "stdout"
        }
      ]
    },
    {
      "cell_type": "code",
      "metadata": {
        "id": "7_s9JzuOlZDW"
      },
      "source": [
        "#Data Standardization\n",
        "from sklearn.preprocessing import StandardScaler\n",
        "\n",
        "# define standard scaler\n",
        "scaler = StandardScaler()\n",
        "\n",
        "# transform data\n",
        "X_train = scaler.fit_transform(X_train) #only fit the training set\n",
        "X_test = scaler.transform(X_test) \n",
        "\n"
      ],
      "execution_count": 48,
      "outputs": []
    },
    {
      "cell_type": "code",
      "metadata": {
        "id": "Xbj1Me8O5a7y",
        "colab": {
          "base_uri": "https://localhost:8080/",
          "height": 341
        },
        "outputId": "9b28e91f-b910-4b4f-d419-3440ad9345e9"
      },
      "source": [
        "from sklearn.model_selection import GridSearchCV\n",
        "parameters = {\"n_neighbors\": range(1, 100),\n",
        "              \"weights\": [\"uniform\",\"distance\"],\n",
        "              \"metric\": [\"euclidean\", \"manhattan\"]}\n",
        "              \n",
        "gs=GridSearchCV(KNeighborsRegressor(), parameters, scoring=\"neg_mean_squared_error\",cv=10, n_jobs=-1)\n",
        "\n",
        "#fitting the model for grid\n",
        "gs_results = gs.fit(X_train, y_train)"
      ],
      "execution_count": 49,
      "outputs": [
        {
          "output_type": "error",
          "ename": "KeyboardInterrupt",
          "evalue": "ignored",
          "traceback": [
            "\u001b[0;31m---------------------------------------------------------------------------\u001b[0m",
            "\u001b[0;31mKeyboardInterrupt\u001b[0m                         Traceback (most recent call last)",
            "\u001b[0;32m<ipython-input-49-3b9f9db90643>\u001b[0m in \u001b[0;36m<module>\u001b[0;34m()\u001b[0m\n\u001b[1;32m      7\u001b[0m \u001b[0;34m\u001b[0m\u001b[0m\n\u001b[1;32m      8\u001b[0m \u001b[0;31m#fitting the model for grid\u001b[0m\u001b[0;34m\u001b[0m\u001b[0;34m\u001b[0m\u001b[0;34m\u001b[0m\u001b[0m\n\u001b[0;32m----> 9\u001b[0;31m \u001b[0mgs_results\u001b[0m \u001b[0;34m=\u001b[0m \u001b[0mgs\u001b[0m\u001b[0;34m.\u001b[0m\u001b[0mfit\u001b[0m\u001b[0;34m(\u001b[0m\u001b[0mX_train\u001b[0m\u001b[0;34m,\u001b[0m \u001b[0my_train\u001b[0m\u001b[0;34m)\u001b[0m\u001b[0;34m\u001b[0m\u001b[0;34m\u001b[0m\u001b[0m\n\u001b[0m",
            "\u001b[0;32m/usr/local/lib/python3.7/dist-packages/sklearn/model_selection/_search.py\u001b[0m in \u001b[0;36mfit\u001b[0;34m(self, X, y, groups, **fit_params)\u001b[0m\n\u001b[1;32m    708\u001b[0m                 \u001b[0;32mreturn\u001b[0m \u001b[0mresults\u001b[0m\u001b[0;34m\u001b[0m\u001b[0;34m\u001b[0m\u001b[0m\n\u001b[1;32m    709\u001b[0m \u001b[0;34m\u001b[0m\u001b[0m\n\u001b[0;32m--> 710\u001b[0;31m             \u001b[0mself\u001b[0m\u001b[0;34m.\u001b[0m\u001b[0m_run_search\u001b[0m\u001b[0;34m(\u001b[0m\u001b[0mevaluate_candidates\u001b[0m\u001b[0;34m)\u001b[0m\u001b[0;34m\u001b[0m\u001b[0;34m\u001b[0m\u001b[0m\n\u001b[0m\u001b[1;32m    711\u001b[0m \u001b[0;34m\u001b[0m\u001b[0m\n\u001b[1;32m    712\u001b[0m         \u001b[0;31m# For multi-metric evaluation, store the best_index_, best_params_ and\u001b[0m\u001b[0;34m\u001b[0m\u001b[0;34m\u001b[0m\u001b[0;34m\u001b[0m\u001b[0m\n",
            "\u001b[0;32m/usr/local/lib/python3.7/dist-packages/sklearn/model_selection/_search.py\u001b[0m in \u001b[0;36m_run_search\u001b[0;34m(self, evaluate_candidates)\u001b[0m\n\u001b[1;32m   1149\u001b[0m     \u001b[0;32mdef\u001b[0m \u001b[0m_run_search\u001b[0m\u001b[0;34m(\u001b[0m\u001b[0mself\u001b[0m\u001b[0;34m,\u001b[0m \u001b[0mevaluate_candidates\u001b[0m\u001b[0;34m)\u001b[0m\u001b[0;34m:\u001b[0m\u001b[0;34m\u001b[0m\u001b[0;34m\u001b[0m\u001b[0m\n\u001b[1;32m   1150\u001b[0m         \u001b[0;34m\"\"\"Search all candidates in param_grid\"\"\"\u001b[0m\u001b[0;34m\u001b[0m\u001b[0;34m\u001b[0m\u001b[0m\n\u001b[0;32m-> 1151\u001b[0;31m         \u001b[0mevaluate_candidates\u001b[0m\u001b[0;34m(\u001b[0m\u001b[0mParameterGrid\u001b[0m\u001b[0;34m(\u001b[0m\u001b[0mself\u001b[0m\u001b[0;34m.\u001b[0m\u001b[0mparam_grid\u001b[0m\u001b[0;34m)\u001b[0m\u001b[0;34m)\u001b[0m\u001b[0;34m\u001b[0m\u001b[0;34m\u001b[0m\u001b[0m\n\u001b[0m\u001b[1;32m   1152\u001b[0m \u001b[0;34m\u001b[0m\u001b[0m\n\u001b[1;32m   1153\u001b[0m \u001b[0;34m\u001b[0m\u001b[0m\n",
            "\u001b[0;32m/usr/local/lib/python3.7/dist-packages/sklearn/model_selection/_search.py\u001b[0m in \u001b[0;36mevaluate_candidates\u001b[0;34m(candidate_params)\u001b[0m\n\u001b[1;32m    687\u001b[0m                                \u001b[0;32mfor\u001b[0m \u001b[0mparameters\u001b[0m\u001b[0;34m,\u001b[0m \u001b[0;34m(\u001b[0m\u001b[0mtrain\u001b[0m\u001b[0;34m,\u001b[0m \u001b[0mtest\u001b[0m\u001b[0;34m)\u001b[0m\u001b[0;34m\u001b[0m\u001b[0;34m\u001b[0m\u001b[0m\n\u001b[1;32m    688\u001b[0m                                in product(candidate_params,\n\u001b[0;32m--> 689\u001b[0;31m                                           cv.split(X, y, groups)))\n\u001b[0m\u001b[1;32m    690\u001b[0m \u001b[0;34m\u001b[0m\u001b[0m\n\u001b[1;32m    691\u001b[0m                 \u001b[0;32mif\u001b[0m \u001b[0mlen\u001b[0m\u001b[0;34m(\u001b[0m\u001b[0mout\u001b[0m\u001b[0;34m)\u001b[0m \u001b[0;34m<\u001b[0m \u001b[0;36m1\u001b[0m\u001b[0;34m:\u001b[0m\u001b[0;34m\u001b[0m\u001b[0;34m\u001b[0m\u001b[0m\n",
            "\u001b[0;32m/usr/local/lib/python3.7/dist-packages/joblib/parallel.py\u001b[0m in \u001b[0;36m__call__\u001b[0;34m(self, iterable)\u001b[0m\n\u001b[1;32m   1052\u001b[0m \u001b[0;34m\u001b[0m\u001b[0m\n\u001b[1;32m   1053\u001b[0m             \u001b[0;32mwith\u001b[0m \u001b[0mself\u001b[0m\u001b[0;34m.\u001b[0m\u001b[0m_backend\u001b[0m\u001b[0;34m.\u001b[0m\u001b[0mretrieval_context\u001b[0m\u001b[0;34m(\u001b[0m\u001b[0;34m)\u001b[0m\u001b[0;34m:\u001b[0m\u001b[0;34m\u001b[0m\u001b[0;34m\u001b[0m\u001b[0m\n\u001b[0;32m-> 1054\u001b[0;31m                 \u001b[0mself\u001b[0m\u001b[0;34m.\u001b[0m\u001b[0mretrieve\u001b[0m\u001b[0;34m(\u001b[0m\u001b[0;34m)\u001b[0m\u001b[0;34m\u001b[0m\u001b[0;34m\u001b[0m\u001b[0m\n\u001b[0m\u001b[1;32m   1055\u001b[0m             \u001b[0;31m# Make sure that we get a last message telling us we are done\u001b[0m\u001b[0;34m\u001b[0m\u001b[0;34m\u001b[0m\u001b[0;34m\u001b[0m\u001b[0m\n\u001b[1;32m   1056\u001b[0m             \u001b[0melapsed_time\u001b[0m \u001b[0;34m=\u001b[0m \u001b[0mtime\u001b[0m\u001b[0;34m.\u001b[0m\u001b[0mtime\u001b[0m\u001b[0;34m(\u001b[0m\u001b[0;34m)\u001b[0m \u001b[0;34m-\u001b[0m \u001b[0mself\u001b[0m\u001b[0;34m.\u001b[0m\u001b[0m_start_time\u001b[0m\u001b[0;34m\u001b[0m\u001b[0;34m\u001b[0m\u001b[0m\n",
            "\u001b[0;32m/usr/local/lib/python3.7/dist-packages/joblib/parallel.py\u001b[0m in \u001b[0;36mretrieve\u001b[0;34m(self)\u001b[0m\n\u001b[1;32m    931\u001b[0m             \u001b[0;32mtry\u001b[0m\u001b[0;34m:\u001b[0m\u001b[0;34m\u001b[0m\u001b[0;34m\u001b[0m\u001b[0m\n\u001b[1;32m    932\u001b[0m                 \u001b[0;32mif\u001b[0m \u001b[0mgetattr\u001b[0m\u001b[0;34m(\u001b[0m\u001b[0mself\u001b[0m\u001b[0;34m.\u001b[0m\u001b[0m_backend\u001b[0m\u001b[0;34m,\u001b[0m \u001b[0;34m'supports_timeout'\u001b[0m\u001b[0;34m,\u001b[0m \u001b[0;32mFalse\u001b[0m\u001b[0;34m)\u001b[0m\u001b[0;34m:\u001b[0m\u001b[0;34m\u001b[0m\u001b[0;34m\u001b[0m\u001b[0m\n\u001b[0;32m--> 933\u001b[0;31m                     \u001b[0mself\u001b[0m\u001b[0;34m.\u001b[0m\u001b[0m_output\u001b[0m\u001b[0;34m.\u001b[0m\u001b[0mextend\u001b[0m\u001b[0;34m(\u001b[0m\u001b[0mjob\u001b[0m\u001b[0;34m.\u001b[0m\u001b[0mget\u001b[0m\u001b[0;34m(\u001b[0m\u001b[0mtimeout\u001b[0m\u001b[0;34m=\u001b[0m\u001b[0mself\u001b[0m\u001b[0;34m.\u001b[0m\u001b[0mtimeout\u001b[0m\u001b[0;34m)\u001b[0m\u001b[0;34m)\u001b[0m\u001b[0;34m\u001b[0m\u001b[0;34m\u001b[0m\u001b[0m\n\u001b[0m\u001b[1;32m    934\u001b[0m                 \u001b[0;32melse\u001b[0m\u001b[0;34m:\u001b[0m\u001b[0;34m\u001b[0m\u001b[0;34m\u001b[0m\u001b[0m\n\u001b[1;32m    935\u001b[0m                     \u001b[0mself\u001b[0m\u001b[0;34m.\u001b[0m\u001b[0m_output\u001b[0m\u001b[0;34m.\u001b[0m\u001b[0mextend\u001b[0m\u001b[0;34m(\u001b[0m\u001b[0mjob\u001b[0m\u001b[0;34m.\u001b[0m\u001b[0mget\u001b[0m\u001b[0;34m(\u001b[0m\u001b[0;34m)\u001b[0m\u001b[0;34m)\u001b[0m\u001b[0;34m\u001b[0m\u001b[0;34m\u001b[0m\u001b[0m\n",
            "\u001b[0;32m/usr/local/lib/python3.7/dist-packages/joblib/_parallel_backends.py\u001b[0m in \u001b[0;36mwrap_future_result\u001b[0;34m(future, timeout)\u001b[0m\n\u001b[1;32m    540\u001b[0m         AsyncResults.get from multiprocessing.\"\"\"\n\u001b[1;32m    541\u001b[0m         \u001b[0;32mtry\u001b[0m\u001b[0;34m:\u001b[0m\u001b[0;34m\u001b[0m\u001b[0;34m\u001b[0m\u001b[0m\n\u001b[0;32m--> 542\u001b[0;31m             \u001b[0;32mreturn\u001b[0m \u001b[0mfuture\u001b[0m\u001b[0;34m.\u001b[0m\u001b[0mresult\u001b[0m\u001b[0;34m(\u001b[0m\u001b[0mtimeout\u001b[0m\u001b[0;34m=\u001b[0m\u001b[0mtimeout\u001b[0m\u001b[0;34m)\u001b[0m\u001b[0;34m\u001b[0m\u001b[0;34m\u001b[0m\u001b[0m\n\u001b[0m\u001b[1;32m    543\u001b[0m         \u001b[0;32mexcept\u001b[0m \u001b[0mCfTimeoutError\u001b[0m \u001b[0;32mas\u001b[0m \u001b[0me\u001b[0m\u001b[0;34m:\u001b[0m\u001b[0;34m\u001b[0m\u001b[0;34m\u001b[0m\u001b[0m\n\u001b[1;32m    544\u001b[0m             \u001b[0;32mraise\u001b[0m \u001b[0mTimeoutError\u001b[0m \u001b[0;32mfrom\u001b[0m \u001b[0me\u001b[0m\u001b[0;34m\u001b[0m\u001b[0;34m\u001b[0m\u001b[0m\n",
            "\u001b[0;32m/usr/lib/python3.7/concurrent/futures/_base.py\u001b[0m in \u001b[0;36mresult\u001b[0;34m(self, timeout)\u001b[0m\n\u001b[1;32m    428\u001b[0m                 \u001b[0;32mreturn\u001b[0m \u001b[0mself\u001b[0m\u001b[0;34m.\u001b[0m\u001b[0m__get_result\u001b[0m\u001b[0;34m(\u001b[0m\u001b[0;34m)\u001b[0m\u001b[0;34m\u001b[0m\u001b[0;34m\u001b[0m\u001b[0m\n\u001b[1;32m    429\u001b[0m \u001b[0;34m\u001b[0m\u001b[0m\n\u001b[0;32m--> 430\u001b[0;31m             \u001b[0mself\u001b[0m\u001b[0;34m.\u001b[0m\u001b[0m_condition\u001b[0m\u001b[0;34m.\u001b[0m\u001b[0mwait\u001b[0m\u001b[0;34m(\u001b[0m\u001b[0mtimeout\u001b[0m\u001b[0;34m)\u001b[0m\u001b[0;34m\u001b[0m\u001b[0;34m\u001b[0m\u001b[0m\n\u001b[0m\u001b[1;32m    431\u001b[0m \u001b[0;34m\u001b[0m\u001b[0m\n\u001b[1;32m    432\u001b[0m             \u001b[0;32mif\u001b[0m \u001b[0mself\u001b[0m\u001b[0;34m.\u001b[0m\u001b[0m_state\u001b[0m \u001b[0;32min\u001b[0m \u001b[0;34m[\u001b[0m\u001b[0mCANCELLED\u001b[0m\u001b[0;34m,\u001b[0m \u001b[0mCANCELLED_AND_NOTIFIED\u001b[0m\u001b[0;34m]\u001b[0m\u001b[0;34m:\u001b[0m\u001b[0;34m\u001b[0m\u001b[0;34m\u001b[0m\u001b[0m\n",
            "\u001b[0;32m/usr/lib/python3.7/threading.py\u001b[0m in \u001b[0;36mwait\u001b[0;34m(self, timeout)\u001b[0m\n\u001b[1;32m    294\u001b[0m         \u001b[0;32mtry\u001b[0m\u001b[0;34m:\u001b[0m    \u001b[0;31m# restore state no matter what (e.g., KeyboardInterrupt)\u001b[0m\u001b[0;34m\u001b[0m\u001b[0;34m\u001b[0m\u001b[0m\n\u001b[1;32m    295\u001b[0m             \u001b[0;32mif\u001b[0m \u001b[0mtimeout\u001b[0m \u001b[0;32mis\u001b[0m \u001b[0;32mNone\u001b[0m\u001b[0;34m:\u001b[0m\u001b[0;34m\u001b[0m\u001b[0;34m\u001b[0m\u001b[0m\n\u001b[0;32m--> 296\u001b[0;31m                 \u001b[0mwaiter\u001b[0m\u001b[0;34m.\u001b[0m\u001b[0macquire\u001b[0m\u001b[0;34m(\u001b[0m\u001b[0;34m)\u001b[0m\u001b[0;34m\u001b[0m\u001b[0;34m\u001b[0m\u001b[0m\n\u001b[0m\u001b[1;32m    297\u001b[0m                 \u001b[0mgotit\u001b[0m \u001b[0;34m=\u001b[0m \u001b[0;32mTrue\u001b[0m\u001b[0;34m\u001b[0m\u001b[0;34m\u001b[0m\u001b[0m\n\u001b[1;32m    298\u001b[0m             \u001b[0;32melse\u001b[0m\u001b[0;34m:\u001b[0m\u001b[0;34m\u001b[0m\u001b[0;34m\u001b[0m\u001b[0m\n",
            "\u001b[0;31mKeyboardInterrupt\u001b[0m: "
          ]
        }
      ]
    },
    {
      "cell_type": "code",
      "metadata": {
        "id": "is46WamL_Ayc"
      },
      "source": [
        "print(gs_results.best_params_)\n",
        "#beste metrik durch GridSearch"
      ],
      "execution_count": null,
      "outputs": []
    },
    {
      "cell_type": "code",
      "metadata": {
        "id": "ilUNj8R5AfsE"
      },
      "source": [
        ""
      ],
      "execution_count": null,
      "outputs": []
    },
    {
      "cell_type": "code",
      "metadata": {
        "colab": {
          "base_uri": "https://localhost:8080/"
        },
        "id": "yjX1excr9Ywx",
        "outputId": "09099ad4-e78a-49f4-cc81-7a10fe05a8d5"
      },
      "source": [
        "print(gs_results.best_score_) #andere metrik"
      ],
      "execution_count": null,
      "outputs": [
        {
          "output_type": "stream",
          "text": [
            "-371.48355971224066\n"
          ],
          "name": "stdout"
        }
      ]
    },
    {
      "cell_type": "code",
      "metadata": {
        "id": "CGRZfhS2p4Jr",
        "colab": {
          "base_uri": "https://localhost:8080/"
        },
        "outputId": "aa43529f-87fe-4a93-c541-4b71ba29be58"
      },
      "source": [
        "#Cross Validation\n",
        "#import k-folder\n",
        "from sklearn.model_selection import cross_val_score\n",
        "from sklearn.neighbors import KNeighborsRegressor\n",
        "knn = KNeighborsRegressor(n_neighbors = 19)\n",
        "\n",
        "# X,y will automatically devided by 5 folder, the scoring I will still use the accuracy\n",
        "score = cross_val_score(knn, X, y, cv=5, scoring=\"neg_root_mean_squared_error\")\n",
        "#takes the features X (independet variables) and target y (dependent variable) -> splits into k-folds (cv parameter)\n",
        "#Model is trained using K-1 of the folds as training data\n",
        "print(score)\n",
        "\n",
        "#average of these five scores to get accuracy score\n",
        "print(\"The accuracy of the model is : \", -score.mean())"
      ],
      "execution_count": null,
      "outputs": [
        {
          "output_type": "stream",
          "text": [
            "[-17.5410715  -22.31395855 -22.18671166 -25.99722174 -30.11024355]\n",
            "The accuracy of the model is :  23.629841400593754\n"
          ],
          "name": "stdout"
        }
      ]
    },
    {
      "cell_type": "code",
      "metadata": {
        "id": "VRTZ0HQS_cGq",
        "colab": {
          "base_uri": "https://localhost:8080/"
        },
        "outputId": "c98fa9ca-92f3-4981-e3c6-ce1d4763be30"
      },
      "source": [
        "#Fit Knn Model based on grid Search findings\n",
        "knn = KNeighborsRegressor(n_neighbors=19, weights='distance', metric='euclidean')\n",
        "knn.fit(X_train, y_train)"
      ],
      "execution_count": null,
      "outputs": [
        {
          "output_type": "execute_result",
          "data": {
            "text/plain": [
              "KNeighborsRegressor(algorithm='auto', leaf_size=30, metric='euclidean',\n",
              "                    metric_params=None, n_jobs=None, n_neighbors=19, p=2,\n",
              "                    weights='distance')"
            ]
          },
          "metadata": {
            "tags": []
          },
          "execution_count": 22
        }
      ]
    },
    {
      "cell_type": "code",
      "metadata": {
        "id": "ybFZeOAOC2tv",
        "colab": {
          "base_uri": "https://localhost:8080/"
        },
        "outputId": "8d8ad177-007c-41ff-f0b9-cffa98ea4189"
      },
      "source": [
        "#Model evaluation\n",
        "from sklearn.metrics import mean_squared_error\n",
        "from math import sqrt\n",
        "y_preds = knn.predict(X_test)\n",
        "mse = mean_squared_error(y_test, y_preds)\n",
        "rmse = sqrt(mse)\n",
        "rmse"
      ],
      "execution_count": null,
      "outputs": [
        {
          "output_type": "execute_result",
          "data": {
            "text/plain": [
              "18.802557997690304"
            ]
          },
          "metadata": {
            "tags": []
          },
          "execution_count": 23
        }
      ]
    },
    {
      "cell_type": "code",
      "metadata": {
        "id": "8f-4fdTzCF0Y"
      },
      "source": [
        "X = scaler.fit_transform(X)"
      ],
      "execution_count": 60,
      "outputs": []
    },
    {
      "cell_type": "code",
      "metadata": {
        "colab": {
          "base_uri": "https://localhost:8080/"
        },
        "id": "o0HJVAh96WkQ",
        "outputId": "b518de0d-673d-4a0e-aa17-fe4f0df58784"
      },
      "source": [
        "#Fit knn model on whole dataset\n",
        "knn1 = KNeighborsRegressor(n_neighbors=19, weights='distance', metric='euclidean')\n",
        "knn1.fit(X, y)"
      ],
      "execution_count": 61,
      "outputs": [
        {
          "output_type": "execute_result",
          "data": {
            "text/plain": [
              "KNeighborsRegressor(algorithm='auto', leaf_size=30, metric='euclidean',\n",
              "                    metric_params=None, n_jobs=None, n_neighbors=19, p=2,\n",
              "                    weights='distance')"
            ]
          },
          "metadata": {
            "tags": []
          },
          "execution_count": 61
        }
      ]
    },
    {
      "cell_type": "code",
      "metadata": {
        "id": "nld_VqPCUiO5",
        "colab": {
          "base_uri": "https://localhost:8080/"
        },
        "outputId": "0ffd57e1-ea1f-4fe6-b083-972dc1f89db5"
      },
      "source": [
        "#Use Knn to predict the nan values of glucose\n",
        "null_data_glucose = scaler.transform(null_data_glucose) \n",
        "gluc_preds = knn1.predict(null_data_glucose)\n",
        "gluc_preds\n"
      ],
      "execution_count": 62,
      "outputs": [
        {
          "output_type": "execute_result",
          "data": {
            "text/plain": [
              "array([ 82.23481616,  80.83485149,  83.08962258,  76.38110279,\n",
              "        74.4601769 ,  83.75923673,  78.78679958,  80.53487079,\n",
              "        72.87478923,  77.66680115,  77.75320995,  79.04848304,\n",
              "        75.45434753,  80.27894407,  87.3666857 , 168.5525363 ,\n",
              "        79.00023417,  74.5918825 ,  76.01415379,  76.37941822,\n",
              "        78.54498325, 147.82691767,  79.67279747,  78.3107782 ,\n",
              "        82.00386889,  83.36809247,  73.66846965,  80.69767312,\n",
              "        85.04673731,  77.12783403,  80.06783857,  79.27998897,\n",
              "        83.41819394,  80.64165437,  78.82094993,  75.0724475 ,\n",
              "        82.66017274,  78.00612356,  81.50763407,  79.71903715,\n",
              "        84.85222126,  76.96697864,  75.85328478,  80.89652346,\n",
              "        75.19680216,  77.16571688,  81.49580212,  86.34922871,\n",
              "        83.10385462,  80.77588142,  82.07029661,  84.45781683,\n",
              "        78.99798278,  80.63668662,  89.38695467,  81.37959677,\n",
              "        75.61061651,  76.47070092,  79.47702647,  78.35040816,\n",
              "        78.25358813,  81.63864773,  77.21863653,  81.14502187,\n",
              "        74.02785233,  76.13721245,  79.08201175,  79.34061534,\n",
              "        79.34810361,  77.99706105,  77.82949846,  74.07454688,\n",
              "        75.06166607,  76.34783401,  81.19366841,  77.09109245,\n",
              "        79.95037549,  76.25928714,  83.90303455,  80.69587843,\n",
              "        79.01479934,  78.66087817,  80.18014892,  84.52519166,\n",
              "        77.89765655,  76.73347416,  75.26240222,  75.85043275,\n",
              "        75.54822367,  79.44324531,  83.42245339,  79.28776284,\n",
              "        81.34852083,  74.6917254 ,  84.4658234 ,  80.67563168,\n",
              "        83.6749317 ,  83.56468339,  81.33682936,  78.55034399,\n",
              "        76.41915122,  79.03050639,  80.69337539,  79.14051831,\n",
              "        79.51510344,  78.89732273,  80.92311837,  82.8483268 ,\n",
              "        77.97298648,  79.90291788,  80.01140877,  80.28843257,\n",
              "        78.58710668,  79.36601209,  84.3974835 ,  75.21482346,\n",
              "        77.03570829,  79.35512435,  78.56260952,  77.54917664,\n",
              "        77.21281917,  75.93216742,  74.07174991,  79.47411812,\n",
              "        78.23496117,  78.26480631,  87.7317326 ,  77.97602783,\n",
              "        79.83250098,  81.90421212,  78.75738711,  80.98971205,\n",
              "        77.03687796,  78.17103871,  80.63846778,  74.4850545 ,\n",
              "        77.05817465,  81.07275445,  76.14936039,  80.33276357,\n",
              "        78.0156862 ,  75.41498971,  79.07716576,  79.78738617,\n",
              "        78.49855194,  78.09162523,  75.01715856,  75.87345836,\n",
              "        79.02033415,  81.59797396,  82.80193564,  76.70837916,\n",
              "        80.56667773,  77.45449911,  77.55765257,  78.45423612,\n",
              "        80.72662847,  83.05152148,  74.61115321,  76.97388049,\n",
              "        83.65798236,  86.06242409,  81.97811956,  74.12958898,\n",
              "        80.03574959,  78.57705047,  82.60572917,  78.8922069 ,\n",
              "        78.35531267,  78.05493229,  80.51565173,  78.7898037 ,\n",
              "        83.53516963,  79.38868129,  75.97629073,  73.40056158,\n",
              "        77.74332102,  75.37342443,  79.4244145 ,  72.84863957,\n",
              "        80.64410002,  80.47430481,  85.25874002,  79.10101592,\n",
              "        81.74472305,  76.36937875,  81.99193535,  76.92101729,\n",
              "        76.89837156,  78.93182366,  75.5027011 ,  81.05172114,\n",
              "        77.52755102,  80.86038209,  78.81503787,  77.00554367,\n",
              "        82.41555905,  73.60027868,  77.1302989 ,  79.62025538,\n",
              "        87.05782975,  81.8789032 ,  79.84242274,  83.60485986,\n",
              "        79.65798775,  79.64725765,  82.7357235 ,  81.1216493 ,\n",
              "        81.16605884,  80.95622453,  84.83322657,  85.01815783,\n",
              "        82.69949796,  76.64622391,  85.02426002,  76.45477739,\n",
              "        82.08217347,  79.18198305,  79.6769207 ,  82.39148493,\n",
              "        76.83492305,  78.68824289,  87.85689661,  78.41101305,\n",
              "        75.71908229,  77.86676231,  78.4868608 ,  73.17449992,\n",
              "        81.08071486,  81.95050182,  75.9436711 ,  82.94696822,\n",
              "        75.36218317, 158.96244407,  77.40378954,  80.02185316,\n",
              "        82.65268917,  78.40140795,  90.05387737,  81.17947333,\n",
              "        76.75683665,  76.11165632,  77.81084147,  78.92578702,\n",
              "        80.86476217,  80.22345479,  77.88259852,  80.14502799,\n",
              "        84.1128282 ,  78.45206946,  74.32051978,  76.46445341,\n",
              "        82.14238831,  75.54094085,  79.39111726,  78.80305379,\n",
              "        79.64856072,  83.08652398,  72.69389772,  77.65456886,\n",
              "        81.46718228,  78.4653656 ,  82.99604131,  80.19974999,\n",
              "        79.61866249,  81.43905116,  82.48211953,  76.81832282,\n",
              "        74.38995369,  78.51689537,  78.59291394,  79.997784  ,\n",
              "        77.22648081,  76.08746265,  77.00926092,  75.79683586,\n",
              "        84.63970233,  83.75463794,  80.74954248,  81.03747687,\n",
              "        85.4467377 ,  79.20539761,  83.86092016,  81.71254732,\n",
              "        72.90508768,  76.91714841,  89.82986052, 173.35008978,\n",
              "        83.37600089,  87.4353799 ,  83.53842904,  78.62094881,\n",
              "        80.02958236,  80.98276183,  79.59635245,  83.45650668,\n",
              "        85.69948029,  81.40208268,  76.69610956,  79.12747566,\n",
              "        81.09565618,  80.24300284,  79.80021235,  74.05826727,\n",
              "        82.00789605,  81.6563842 ,  79.18157643,  74.67236227,\n",
              "        80.44298287,  80.40131984,  74.83981627,  79.95004434,\n",
              "        76.41517339,  77.99151649,  77.56741176,  80.8968191 ,\n",
              "        77.5521626 ,  77.56068434,  79.59823986,  83.25350707,\n",
              "        80.34729736,  83.86067119,  88.33428506,  75.44015697,\n",
              "        76.38427169,  81.33848632,  80.0517625 ,  78.58039727,\n",
              "        85.31388508,  79.55255486,  76.36578761,  76.21343861,\n",
              "        78.86706433,  84.60796792,  77.94172919,  83.7493826 ,\n",
              "        77.97881242,  80.34839863,  81.1262    ,  82.12902909,\n",
              "        85.90043151,  81.25853499,  83.91664485,  83.32761168,\n",
              "        83.54792269,  78.99545938,  76.88538487,  83.71069284,\n",
              "        80.05542915,  78.34793143,  76.63810675,  78.99951772,\n",
              "        75.90284279,  84.54099625,  93.78353052,  81.1801201 ,\n",
              "        80.72768831,  74.51529134,  76.84579765,  78.8441466 ,\n",
              "        90.15421183,  75.63769016,  84.95939955,  80.92337435,\n",
              "        77.84056294,  83.59174263,  74.04168091,  73.11911733,\n",
              "        80.54971439,  78.36151727,  77.76159555,  79.10882674,\n",
              "        75.43656167,  77.52383347,  76.54122634,  73.81988861,\n",
              "        75.77144043,  80.17383083,  75.94431009,  81.20251992,\n",
              "        80.47958415,  77.46072093,  78.50267566,  84.35135465,\n",
              "        76.02729981,  82.05985413,  80.48127061,  77.82629403])"
            ]
          },
          "metadata": {
            "tags": []
          },
          "execution_count": 62
        }
      ]
    },
    {
      "cell_type": "code",
      "metadata": {
        "id": "j15AR48KZXK6"
      },
      "source": [
        "glu_nan = df['glucose'].isna()\n",
        "glu_nan.value_counts()\n",
        "\n",
        "df.loc[glu_nan, 'glucose'] = gluc_preds\n"
      ],
      "execution_count": 63,
      "outputs": []
    },
    {
      "cell_type": "code",
      "metadata": {
        "colab": {
          "base_uri": "https://localhost:8080/"
        },
        "id": "tDJciyKt2mjG",
        "outputId": "185f5973-7365-425d-eda7-7c58a33e51d1"
      },
      "source": [
        "print(df.isnull().sum())"
      ],
      "execution_count": 64,
      "outputs": [
        {
          "output_type": "stream",
          "text": [
            "sex                0\n",
            "age                0\n",
            "education          0\n",
            "currentSmoker      0\n",
            "cigsPerDay         0\n",
            "BPMeds             0\n",
            "prevalentStroke    0\n",
            "prevalentHyp       0\n",
            "diabetes           0\n",
            "totChol            0\n",
            "sysBP              0\n",
            "diaBP              0\n",
            "BMI                0\n",
            "heartRate          0\n",
            "glucose            0\n",
            "TenYearCHD         0\n",
            "AgeRange           0\n",
            "dtype: int64\n"
          ],
          "name": "stdout"
        }
      ]
    },
    {
      "cell_type": "markdown",
      "metadata": {
        "id": "dsHl2SzLPrvb"
      },
      "source": [
        "# Linear Regression for Glucose"
      ]
    },
    {
      "cell_type": "code",
      "metadata": {
        "colab": {
          "base_uri": "https://localhost:8080/"
        },
        "id": "NnkRPP3iPzTV",
        "outputId": "ac64db4f-7530-438a-9c64-69b7dcabb837"
      },
      "source": [
        "from sklearn import linear_model\n",
        "from sklearn.metrics import mean_squared_error, r2_score\n",
        "\n",
        "regr = linear_model.LinearRegression()\n",
        "\n",
        "# Train the model using the training sets\n",
        "regr.fit(X_train, y_train)"
      ],
      "execution_count": 65,
      "outputs": [
        {
          "output_type": "execute_result",
          "data": {
            "text/plain": [
              "LinearRegression(copy_X=True, fit_intercept=True, n_jobs=None, normalize=False)"
            ]
          },
          "metadata": {
            "tags": []
          },
          "execution_count": 65
        }
      ]
    },
    {
      "cell_type": "code",
      "metadata": {
        "id": "5DWMGQkyahrl",
        "colab": {
          "base_uri": "https://localhost:8080/"
        },
        "outputId": "9cdbe4ec-3f5f-47a6-ad03-9ff9c1bd2903"
      },
      "source": [
        "#evaluate the fit on the testing data\n",
        "y_pred_lin = regr.predict(X_test)\n",
        "\n",
        "#print('Coefficients: \\n', regr.coef_)\n",
        "# The mean squared error\n",
        "mse_lin_test = (mean_squared_error(y_test, y_pred_lin))\n",
        "rmse = sqrt(mse_lin_test)\n",
        "print(rmse)\n",
        "\n",
        "# The coefficient of determination: 1 is perfect prediction\n",
        "print(r2_score(y_test, y_pred_lin))"
      ],
      "execution_count": 66,
      "outputs": [
        {
          "output_type": "stream",
          "text": [
            "18.679285557874415\n",
            "0.3958693322205926\n"
          ],
          "name": "stdout"
        }
      ]
    },
    {
      "cell_type": "code",
      "metadata": {
        "colab": {
          "base_uri": "https://localhost:8080/"
        },
        "id": "VtQSkaLKaSEP",
        "outputId": "bba41aaa-3ca4-4ba8-9cd9-37f067082de5"
      },
      "source": [
        "#evaluate the fit on the training data\n",
        "y_pred_lin1 = regr.predict(X_train)\n",
        "\n",
        "#print('Coefficients: \\n', regr.coef_)\n",
        "# The mean squared error\n",
        "mse_lin_train = (mean_squared_error(y_train, y_pred_lin1))\n",
        "rmse1 = sqrt(mse_lin_train)\n",
        "print(rmse1)\n",
        "# The coefficient of determination: 1 is perfect prediction\n",
        "print(r2_score(y_train, y_pred_lin1))"
      ],
      "execution_count": null,
      "outputs": [
        {
          "output_type": "stream",
          "text": [
            "18.62498157775653\n",
            "0.3947602078289537\n"
          ],
          "name": "stdout"
        }
      ]
    },
    {
      "cell_type": "markdown",
      "metadata": {
        "id": "oIEr85a7V4kT"
      },
      "source": [
        "# KNN Try outs"
      ]
    },
    {
      "cell_type": "code",
      "metadata": {
        "colab": {
          "base_uri": "https://localhost:8080/"
        },
        "id": "6g29_9E--p8y",
        "outputId": "fb111aad-3618-4147-a758-5b9b3be1e1c0"
      },
      "source": [
        "correlation_matrix = df.corr()\n",
        "correlation_matrix[\"glucose\"]"
      ],
      "execution_count": null,
      "outputs": [
        {
          "output_type": "execute_result",
          "data": {
            "text/plain": [
              "sex                0.005974\n",
              "age                0.122139\n",
              "currentSmoker     -0.056935\n",
              "cigsPerDay        -0.058956\n",
              "BPMeds             0.050982\n",
              "prevalentStroke    0.018439\n",
              "prevalentHyp       0.086715\n",
              "diabetes           0.617657\n",
              "totChol            0.046413\n",
              "sysBP              0.140506\n",
              "diaBP              0.061301\n",
              "BMI                0.086830\n",
              "heartRate          0.094500\n",
              "glucose            1.000000\n",
              "TenYearCHD         0.125406\n",
              "Name: glucose, dtype: float64"
            ]
          },
          "metadata": {
            "tags": []
          },
          "execution_count": 86
        }
      ]
    },
    {
      "cell_type": "code",
      "metadata": {
        "colab": {
          "base_uri": "https://localhost:8080/",
          "height": 267
        },
        "id": "zfH0CEbC6mXI",
        "outputId": "65d7857d-8c04-468f-ccea-b12ee42c7c03"
      },
      "source": [
        "#Plotting the model\n",
        "#create a scatter plot of the first and second columns of X_test by subsetting the arrays X_test[:,1] and X_test[:,10]\n",
        "#columns are age and sysBP --> correlated\n",
        "#colorbar shows predicted glucose value\n",
        "import seaborn as sns\n",
        "cmap = sns.cubehelix_palette(as_cmap=True)\n",
        "f, ax = plt.subplots()\n",
        "points = ax.scatter(X_test[:, 1], X_test[:, 10], c=test_preds, s=50, cmap=cmap)\n",
        "f.colorbar(points)\n",
        "plt.show()"
      ],
      "execution_count": null,
      "outputs": [
        {
          "output_type": "display_data",
          "data": {
            "image/png": "[encoded data removed]",
            "text/plain": [
              "<Figure size 432x288 with 2 Axes>"
            ]
          },
          "metadata": {
            "tags": [],
            "needs_background": "light"
          }
        }
      ]
    },
    {
      "cell_type": "code",
      "metadata": {
        "colab": {
          "base_uri": "https://localhost:8080/",
          "height": 265
        },
        "id": "TjYrqIae9euE",
        "outputId": "0c172f5a-bb53-41be-9e0f-41d2f1d1cb61"
      },
      "source": [
        "f, ax = plt.subplots()\n",
        "points = ax.scatter(X_train[:, 1], X_train[:, 10], c=train_preds, s=50, cmap=cmap)\n",
        "f.colorbar(points)\n",
        "plt.show()"
      ],
      "execution_count": null,
      "outputs": [
        {
          "output_type": "display_data",
          "data": {
            "image/png": "[encoded data removed]",
            "text/plain": [
              "<Figure size 432x288 with 2 Axes>"
            ]
          },
          "metadata": {
            "tags": [],
            "needs_background": "light"
          }
        }
      ]
    },
    {
      "cell_type": "code",
      "metadata": {
        "id": "sFJZjE0_p9jj",
        "colab": {
          "base_uri": "https://localhost:8080/",
          "height": 279
        },
        "outputId": "87fc9044-aaac-4056-ec7f-d53c302ff5dd"
      },
      "source": [
        "#choose differenct neighbors to see which K is the best K\n",
        "import matplotlib.pyplot as plt \n",
        "%matplotlib inline\n",
        "\n",
        "# choose k between 1 to 100\n",
        "k_range = range(1, 31)\n",
        "\n",
        "k_scores = []\n",
        "\n",
        "# use iteration to caclulator different k in models, then return the average accuracy based on the cross validation\n",
        "for k in k_range:\n",
        "    knn = KNeighborsRegressor(n_neighbors=k)\n",
        "    scores = cross_val_score(knn, X, y, cv=5, scoring=\"neg_root_mean_squared_error\")\n",
        "    k_scores.append(scores.mean())\n",
        "\n",
        "# plot to see clearly\n",
        "plt.plot(k_range, k_scores)\n",
        "plt.xlabel('Value of K for KNN')\n",
        "plt.ylabel('Cross-Validated Accuracy')\n",
        "plt.show()"
      ],
      "execution_count": null,
      "outputs": [
        {
          "output_type": "display_data",
          "data": {
            "image/png": "[encoded data removed]",
            "text/plain": [
              "<Figure size 432x288 with 1 Axes>"
            ]
          },
          "metadata": {
            "tags": [],
            "needs_background": "light"
          }
        }
      ]
    }
  ]
}