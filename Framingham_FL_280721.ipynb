{
  "nbformat": 4,
  "nbformat_minor": 0,
  "metadata": {
    "colab": {
      "name": "Framingham.ipynb",
      "provenance": [],
      "collapsed_sections": [
        "yhq5VyNCvIPK",
        "IHWzIaZ8u2LR",
        "w2AY5J_LulRQ",
        "VA6cxE_QutdQ",
        "_LWrlLkjuHeS"
      ]
    },
    "kernelspec": {
      "display_name": "Python 3",
      "name": "python3"
    },
    "language_info": {
      "name": "python"
    }
  },
  "cells": [
    {
      "cell_type": "code",
      "metadata": {
        "id": "HlmolJiz99eO"
      },
      "source": [
        "import warnings\n",
        "warnings.filterwarnings('ignore')\n",
        "\n",
        "import numpy as np\n",
        "import pandas as pd\n",
        "import seaborn as sns\n",
        "import sklearn as sk\n",
        "import matplotlib.pyplot as plt\n",
        "from sklearn.model_selection import train_test_split\n",
        "pd.options.display.max_columns = None\n",
        "\n"
      ],
      "execution_count": 2,
      "outputs": []
    },
    {
      "cell_type": "code",
      "metadata": {
        "colab": {
          "base_uri": "https://localhost:8080/"
        },
        "id": "qIasf8ZnBya2",
        "outputId": "745f0b08-9621-405a-e7bb-433dd36175fc"
      },
      "source": [
        "df = pd.read_csv(\"/content/drive/MyDrive/Colab Notebooks/framingham.csv\")\n",
        "df.rename({'male': 'sex'}, axis=1, inplace=True)\n",
        "print(df.isnull().sum())\n",
        "\n",
        "\n"
      ],
      "execution_count": 3,
      "outputs": [
        {
          "output_type": "stream",
          "text": [
            "sex                  0\n",
            "age                  0\n",
            "education          105\n",
            "currentSmoker        0\n",
            "cigsPerDay          29\n",
            "BPMeds              53\n",
            "prevalentStroke      0\n",
            "prevalentHyp         0\n",
            "diabetes             0\n",
            "totChol             50\n",
            "sysBP                0\n",
            "diaBP                0\n",
            "BMI                 19\n",
            "heartRate            1\n",
            "glucose            388\n",
            "TenYearCHD           0\n",
            "dtype: int64\n"
          ],
          "name": "stdout"
        }
      ]
    },
    {
      "cell_type": "code",
      "metadata": {
        "colab": {
          "base_uri": "https://localhost:8080/"
        },
        "id": "JHyuUxs_Qbzg",
        "outputId": "0cf48de8-78ef-4d1f-f8d6-95d542396361"
      },
      "source": [
        "y=df.TenYearCHD\n",
        "x=df#.drop('TenYearCHD', axis=1)\n",
        "xtrain, xtest, ytrain, ytest = train_test_split(x, y, test_size=0.3, random_state=5)\n",
        "TenYearCHD_test=xtrain.TenYearCHD\n",
        "xtrain=xtrain.drop('TenYearCHD', axis=1)\n",
        "xtrain = pd.DataFrame(xtrain)\n",
        "xtrain = xtrain.sort_index()\n",
        "print(xtrain.dtypes)\n"
      ],
      "execution_count": 45,
      "outputs": [
        {
          "output_type": "stream",
          "text": [
            "sex                  int64\n",
            "age                  int64\n",
            "education          float64\n",
            "currentSmoker        int64\n",
            "cigsPerDay         float64\n",
            "BPMeds             float64\n",
            "prevalentStroke      int64\n",
            "prevalentHyp         int64\n",
            "diabetes             int64\n",
            "totChol            float64\n",
            "sysBP              float64\n",
            "diaBP              float64\n",
            "BMI                float64\n",
            "heartRate          float64\n",
            "glucose            float64\n",
            "dtype: object\n"
          ],
          "name": "stdout"
        }
      ]
    },
    {
      "cell_type": "code",
      "metadata": {
        "colab": {
          "base_uri": "https://localhost:8080/"
        },
        "id": "t_IrM8dqAMSv",
        "outputId": "d5b91269-9162-4bee-fc31-ecaf3b6d991f"
      },
      "source": [
        "ytrain"
      ],
      "execution_count": 6,
      "outputs": [
        {
          "output_type": "execute_result",
          "data": {
            "text/plain": [
              "1778    0\n",
              "1065    0\n",
              "4150    0\n",
              "3268    0\n",
              "207     0\n",
              "       ..\n",
              "3046    0\n",
              "1725    0\n",
              "4079    0\n",
              "2254    0\n",
              "2915    0\n",
              "Name: TenYearCHD, Length: 2966, dtype: int64"
            ]
          },
          "metadata": {
            "tags": []
          },
          "execution_count": 6
        }
      ]
    },
    {
      "cell_type": "code",
      "metadata": {
        "colab": {
          "base_uri": "https://localhost:8080/"
        },
        "id": "cF2-cXHuQ5Xv",
        "outputId": "ce22b04d-e517-40b1-a285-3d59481472de"
      },
      "source": [
        "print(xtrain.isnull().sum())"
      ],
      "execution_count": 7,
      "outputs": [
        {
          "output_type": "stream",
          "text": [
            "sex                  0\n",
            "age                  0\n",
            "education           70\n",
            "currentSmoker        0\n",
            "cigsPerDay          21\n",
            "BPMeds              37\n",
            "prevalentStroke      0\n",
            "prevalentHyp         0\n",
            "diabetes             0\n",
            "totChol             37\n",
            "sysBP                0\n",
            "diaBP                0\n",
            "BMI                 14\n",
            "heartRate            1\n",
            "glucose            277\n",
            "dtype: int64\n"
          ],
          "name": "stdout"
        }
      ]
    },
    {
      "cell_type": "markdown",
      "metadata": {
        "id": "yhq5VyNCvIPK"
      },
      "source": [
        "# DataCleaning - General"
      ]
    },
    {
      "cell_type": "code",
      "metadata": {
        "id": "JMgkpiCeLju9"
      },
      "source": [
        "#create AgeRange categories to fill nan values by category\n",
        "#bins = [0, 30, 40, 50, 60, 70, np.inf]\n",
        "#labels = ['0-30', '30-40', '40-50', '50-60', '60-70', '70+']\n",
        "\n",
        "#xtrain['AgeRange'] = xtrain.cut(xtrain['age'], bins, labels=labels)\n",
        "\n",
        "#print(xtrain.dtypes)\n",
        "#print(xtrain)"
      ],
      "execution_count": 8,
      "outputs": []
    },
    {
      "cell_type": "code",
      "metadata": {
        "id": "mVFSlJGPCR_Q"
      },
      "source": [
        "#xtrain.shape\n",
        "#df.isnull().sum()\n"
      ],
      "execution_count": 9,
      "outputs": []
    },
    {
      "cell_type": "markdown",
      "metadata": {
        "id": "IHWzIaZ8u2LR"
      },
      "source": [
        "# DataCleaning - BPMeds, CigsperDay, totChol"
      ]
    },
    {
      "cell_type": "code",
      "metadata": {
        "colab": {
          "base_uri": "https://localhost:8080/"
        },
        "id": "M4NjRWFSHecQ",
        "outputId": "0748fffe-f393-428b-892c-8c01dd04ca89"
      },
      "source": [
        "print(xtrain.BPMeds.value_counts())\n",
        "# fill NaN values in BPMeds column with 0 \n",
        "xtrain.BPMeds.fillna(0,inplace=True)\n"
      ],
      "execution_count": 10,
      "outputs": [
        {
          "output_type": "stream",
          "text": [
            "0.0    2844\n",
            "1.0      85\n",
            "Name: BPMeds, dtype: int64\n"
          ],
          "name": "stdout"
        }
      ]
    },
    {
      "cell_type": "code",
      "metadata": {
        "colab": {
          "base_uri": "https://localhost:8080/"
        },
        "id": "BU9An4n7wAbA",
        "outputId": "c74acedb-f0a9-485c-d737-ff2383ccec48"
      },
      "source": [
        "#cigs per day\n",
        "null_data_cpd = xtrain[xtrain.isnull().cigsPerDay]\n",
        "print(null_data_cpd[[\"currentSmoker\",\"cigsPerDay\"]])\n",
        "#all the missing values of cigsperday are from people who are actually smoking, so we can fill missing values with mean of smokers\n",
        "xtrain.cigsPerDay.fillna(xtrain.cigsPerDay.mean(),inplace=True)\n",
        "\n",
        "#totChol\n",
        "#fill the missing values with the mean\n",
        "xtrain.totChol.fillna(xtrain.totChol.mean(),inplace=True)"
      ],
      "execution_count": 11,
      "outputs": [
        {
          "output_type": "stream",
          "text": [
            "      currentSmoker  cigsPerDay\n",
            "139               1         NaN\n",
            "1046              1         NaN\n",
            "1292              1         NaN\n",
            "1347              1         NaN\n",
            "1451              1         NaN\n",
            "1497              1         NaN\n",
            "1625              1         NaN\n",
            "1870              1         NaN\n",
            "1963              1         NaN\n",
            "2405              1         NaN\n",
            "2513              1         NaN\n",
            "3021              1         NaN\n",
            "3034              1         NaN\n",
            "3094              1         NaN\n",
            "3108              1         NaN\n",
            "3156              1         NaN\n",
            "3177              1         NaN\n",
            "3432              1         NaN\n",
            "3579              1         NaN\n",
            "3715              1         NaN\n",
            "3924              1         NaN\n"
          ],
          "name": "stdout"
        }
      ]
    },
    {
      "cell_type": "markdown",
      "metadata": {
        "id": "w2AY5J_LulRQ"
      },
      "source": [
        "# DataCleaning - Heart Rate"
      ]
    },
    {
      "cell_type": "code",
      "metadata": {
        "colab": {
          "base_uri": "https://localhost:8080/"
        },
        "id": "N03Ibv9YCcgx",
        "outputId": "ef2db296-5056-4ef6-c08f-362e3292fcae"
      },
      "source": [
        "#heartrate\n",
        "xtrain.dropna(subset = [\"heartRate\"], inplace=True)\n",
        "print(xtrain.isnull().sum())\n"
      ],
      "execution_count": 12,
      "outputs": [
        {
          "output_type": "stream",
          "text": [
            "sex                  0\n",
            "age                  0\n",
            "education           70\n",
            "currentSmoker        0\n",
            "cigsPerDay           0\n",
            "BPMeds               0\n",
            "prevalentStroke      0\n",
            "prevalentHyp         0\n",
            "diabetes             0\n",
            "totChol              0\n",
            "sysBP                0\n",
            "diaBP                0\n",
            "BMI                 14\n",
            "heartRate            0\n",
            "glucose            277\n",
            "dtype: int64\n"
          ],
          "name": "stdout"
        }
      ]
    },
    {
      "cell_type": "markdown",
      "metadata": {
        "id": "VA6cxE_QutdQ"
      },
      "source": [
        "# DataCleaning - Eductaion, BMI"
      ]
    },
    {
      "cell_type": "code",
      "metadata": {
        "colab": {
          "base_uri": "https://localhost:8080/",
          "height": 204
        },
        "id": "570xhkzwDbNl",
        "outputId": "84c7fd04-2260-4aeb-f919-5e4e8c27a15b"
      },
      "source": [
        "#set education to 1\n",
        "xtrain.loc[:,'education'] = '1'\n",
        "df.head()"
      ],
      "execution_count": 13,
      "outputs": [
        {
          "output_type": "execute_result",
          "data": {
            "text/html": [
              "<div>\n",
              "<style scoped>\n",
              "    .dataframe tbody tr th:only-of-type {\n",
              "        vertical-align: middle;\n",
              "    }\n",
              "\n",
              "    .dataframe tbody tr th {\n",
              "        vertical-align: top;\n",
              "    }\n",
              "\n",
              "    .dataframe thead th {\n",
              "        text-align: right;\n",
              "    }\n",
              "</style>\n",
              "<table border=\"1\" class=\"dataframe\">\n",
              "  <thead>\n",
              "    <tr style=\"text-align: right;\">\n",
              "      <th></th>\n",
              "      <th>sex</th>\n",
              "      <th>age</th>\n",
              "      <th>education</th>\n",
              "      <th>currentSmoker</th>\n",
              "      <th>cigsPerDay</th>\n",
              "      <th>BPMeds</th>\n",
              "      <th>prevalentStroke</th>\n",
              "      <th>prevalentHyp</th>\n",
              "      <th>diabetes</th>\n",
              "      <th>totChol</th>\n",
              "      <th>sysBP</th>\n",
              "      <th>diaBP</th>\n",
              "      <th>BMI</th>\n",
              "      <th>heartRate</th>\n",
              "      <th>glucose</th>\n",
              "      <th>TenYearCHD</th>\n",
              "    </tr>\n",
              "  </thead>\n",
              "  <tbody>\n",
              "    <tr>\n",
              "      <th>0</th>\n",
              "      <td>1</td>\n",
              "      <td>39</td>\n",
              "      <td>4.0</td>\n",
              "      <td>0</td>\n",
              "      <td>0.0</td>\n",
              "      <td>0.0</td>\n",
              "      <td>0</td>\n",
              "      <td>0</td>\n",
              "      <td>0</td>\n",
              "      <td>195.0</td>\n",
              "      <td>106.0</td>\n",
              "      <td>70.0</td>\n",
              "      <td>26.97</td>\n",
              "      <td>80.0</td>\n",
              "      <td>77.0</td>\n",
              "      <td>0</td>\n",
              "    </tr>\n",
              "    <tr>\n",
              "      <th>1</th>\n",
              "      <td>0</td>\n",
              "      <td>46</td>\n",
              "      <td>2.0</td>\n",
              "      <td>0</td>\n",
              "      <td>0.0</td>\n",
              "      <td>0.0</td>\n",
              "      <td>0</td>\n",
              "      <td>0</td>\n",
              "      <td>0</td>\n",
              "      <td>250.0</td>\n",
              "      <td>121.0</td>\n",
              "      <td>81.0</td>\n",
              "      <td>28.73</td>\n",
              "      <td>95.0</td>\n",
              "      <td>76.0</td>\n",
              "      <td>0</td>\n",
              "    </tr>\n",
              "    <tr>\n",
              "      <th>2</th>\n",
              "      <td>1</td>\n",
              "      <td>48</td>\n",
              "      <td>1.0</td>\n",
              "      <td>1</td>\n",
              "      <td>20.0</td>\n",
              "      <td>0.0</td>\n",
              "      <td>0</td>\n",
              "      <td>0</td>\n",
              "      <td>0</td>\n",
              "      <td>245.0</td>\n",
              "      <td>127.5</td>\n",
              "      <td>80.0</td>\n",
              "      <td>25.34</td>\n",
              "      <td>75.0</td>\n",
              "      <td>70.0</td>\n",
              "      <td>0</td>\n",
              "    </tr>\n",
              "    <tr>\n",
              "      <th>3</th>\n",
              "      <td>0</td>\n",
              "      <td>61</td>\n",
              "      <td>3.0</td>\n",
              "      <td>1</td>\n",
              "      <td>30.0</td>\n",
              "      <td>0.0</td>\n",
              "      <td>0</td>\n",
              "      <td>1</td>\n",
              "      <td>0</td>\n",
              "      <td>225.0</td>\n",
              "      <td>150.0</td>\n",
              "      <td>95.0</td>\n",
              "      <td>28.58</td>\n",
              "      <td>65.0</td>\n",
              "      <td>103.0</td>\n",
              "      <td>1</td>\n",
              "    </tr>\n",
              "    <tr>\n",
              "      <th>4</th>\n",
              "      <td>0</td>\n",
              "      <td>46</td>\n",
              "      <td>3.0</td>\n",
              "      <td>1</td>\n",
              "      <td>23.0</td>\n",
              "      <td>0.0</td>\n",
              "      <td>0</td>\n",
              "      <td>0</td>\n",
              "      <td>0</td>\n",
              "      <td>285.0</td>\n",
              "      <td>130.0</td>\n",
              "      <td>84.0</td>\n",
              "      <td>23.10</td>\n",
              "      <td>85.0</td>\n",
              "      <td>85.0</td>\n",
              "      <td>0</td>\n",
              "    </tr>\n",
              "  </tbody>\n",
              "</table>\n",
              "</div>"
            ],
            "text/plain": [
              "   sex  age  education  currentSmoker  cigsPerDay  BPMeds  prevalentStroke  \\\n",
              "0    1   39        4.0              0         0.0     0.0                0   \n",
              "1    0   46        2.0              0         0.0     0.0                0   \n",
              "2    1   48        1.0              1        20.0     0.0                0   \n",
              "3    0   61        3.0              1        30.0     0.0                0   \n",
              "4    0   46        3.0              1        23.0     0.0                0   \n",
              "\n",
              "   prevalentHyp  diabetes  totChol  sysBP  diaBP    BMI  heartRate  glucose  \\\n",
              "0             0         0    195.0  106.0   70.0  26.97       80.0     77.0   \n",
              "1             0         0    250.0  121.0   81.0  28.73       95.0     76.0   \n",
              "2             0         0    245.0  127.5   80.0  25.34       75.0     70.0   \n",
              "3             1         0    225.0  150.0   95.0  28.58       65.0    103.0   \n",
              "4             0         0    285.0  130.0   84.0  23.10       85.0     85.0   \n",
              "\n",
              "   TenYearCHD  \n",
              "0           0  \n",
              "1           0  \n",
              "2           0  \n",
              "3           1  \n",
              "4           0  "
            ]
          },
          "metadata": {
            "tags": []
          },
          "execution_count": 13
        }
      ]
    },
    {
      "cell_type": "code",
      "metadata": {
        "colab": {
          "base_uri": "https://localhost:8080/"
        },
        "id": "Ts6-1lpHxSJS",
        "outputId": "2d5ec6a8-073b-40da-a9ee-434f38f69644"
      },
      "source": [
        "i = 1\n",
        "VAR_1 = 19\n",
        "VAR_2 = 24\n",
        "VAR_max = xtrain['age'].max()\n",
        "\n",
        "while i < 7:\n",
        "\n",
        "  if VAR_1 == 19: # Start Age of 19\n",
        "      mean_BMI = xtrain[(xtrain.age >= VAR_1) & (xtrain.age <= VAR_2)].BMI.mean()\n",
        "      mean_BMI = round(mean_BMI, 2)\n",
        "      xtrain['BMI']= np.where((xtrain.age >= VAR_1) & (xtrain.age <= VAR_2) & (xtrain.BMI.isnull()), mean_BMI, xtrain.BMI)\n",
        "      \n",
        "  elif VAR_1 >= 25 and VAR_1 <= 54:\n",
        "      mean_BMI = xtrain[(xtrain.age >= VAR_1) & (xtrain.age <= VAR_2)].BMI.mean()\n",
        "      mean_BMI = round(mean_BMI, 2)\n",
        "      xtrain['BMI']= np.where((xtrain.age >= VAR_1) & (xtrain.age <= VAR_2) & (xtrain.BMI.isnull()), mean_BMI, xtrain.BMI)\n",
        "\n",
        "  elif VAR_1 == 55:\n",
        "      mean_BMI = xtrain[(xtrain.age >= VAR_1) & (xtrain.age <= VAR_2)].BMI.mean()\n",
        "      mean_BMI = round(mean_BMI, 2)\n",
        "      xtrain['BMI']= np.where((xtrain.age >= VAR_1) & (xtrain.age <= VAR_2) & (xtrain.BMI.isnull()), mean_BMI, xtrain.BMI)\n",
        "\n",
        "  elif VAR_1 == 66:\n",
        "      mean_BMI = xtrain[(xtrain.age >= 66)& (xtrain.age <= VAR_max)].BMI.mean()\n",
        "      mean_BMI = round(mean_BMI, 2)\n",
        "      xtrain['BMI']= np.where((xtrain.age >= VAR_1) & (xtrain.age <= VAR_max) & (xtrain.BMI.isnull()), mean_BMI, xtrain.BMI)\n",
        "\n",
        "  print('Mean of BMI(NRC): ',mean_BMI,'\\tAge from: ', VAR_1,' to ', VAR_2)\n",
        "\n",
        "  if i == 1:\n",
        "     VAR_1 = 25\n",
        "     VAR_2 = 34\n",
        "  elif i >= 2 and i <= 3:\n",
        "     VAR_1 = VAR_1 + 10\n",
        "     VAR_2 = VAR_2 + 10\n",
        "  elif i == 4:\n",
        "     VAR_1 = 55\n",
        "     VAR_2 = 65\n",
        "  elif i == 5:\n",
        "     VAR_1 = 66\n",
        "     VAR_2 = VAR_max \n",
        "\n",
        "  i += 1\n",
        "\n",
        "xtrain.isnull().sum()"
      ],
      "execution_count": 20,
      "outputs": [
        {
          "output_type": "stream",
          "text": [
            "Mean of BMI(NRC):  nan \tAge from:  19  to  24\n",
            "Mean of BMI(NRC):  23.4 \tAge from:  25  to  34\n",
            "Mean of BMI(NRC):  25.36 \tAge from:  35  to  44\n",
            "Mean of BMI(NRC):  25.81 \tAge from:  45  to  54\n",
            "Mean of BMI(NRC):  26.42 \tAge from:  55  to  65\n",
            "Mean of BMI(NRC):  27.16 \tAge from:  66  to  70\n"
          ],
          "name": "stdout"
        },
        {
          "output_type": "execute_result",
          "data": {
            "text/plain": [
              "sex                  0\n",
              "age                  0\n",
              "education            0\n",
              "currentSmoker        0\n",
              "cigsPerDay           0\n",
              "BPMeds               0\n",
              "prevalentStroke      0\n",
              "prevalentHyp         0\n",
              "diabetes             0\n",
              "totChol              0\n",
              "sysBP                0\n",
              "diaBP                0\n",
              "BMI                  0\n",
              "heartRate            0\n",
              "glucose            277\n",
              "dtype: int64"
            ]
          },
          "metadata": {
            "tags": []
          },
          "execution_count": 20
        }
      ]
    },
    {
      "cell_type": "code",
      "metadata": {
        "id": "38NxFWm1xF_o"
      },
      "source": [
        "#fill missing values of BMI with mean value of the category\n",
        "#define age groups\n",
        "#bins= [30,44,57,71]\n",
        "#labels = ['30-44','45-57','58-71']\n",
        "#xtrain['AgeGroup'] = pd.cut(xtrain['age'], bins=bins, labels=labels, right=False)\n",
        "#print (xtrain)\n",
        "\n",
        "#print(xtrain.groupby('AgeGroup')['BMI'].mean())\n",
        "\n",
        "#BMI1=xtrain[xtrain['AgeGroup']=='30-44'].BMI.median()\n",
        "#BMI2=xtrain[xtrain['AgeGroup']=='45-57'].BMI.median()\n",
        "#BMI3=xtrain[xtrain['AgeGroup']=='58-71'].BMI.median()\n",
        "\n",
        "#print(BMI1)\n",
        "#print(BMI2)\n",
        "#print(BMI3)\n",
        "\n",
        "#xtrain[xtrain['AgeGroup'] == '30-44']['BMI'].fillna(BMI1)\n",
        "#xtrain[xtrain['AgeGroup'] == '45-57']['BMI'].fillna(BMI2)\n",
        "#xtrain[xtrain['AgeGroup'] == '58-71']['BMI'].fillna(BMI3)\n",
        "\n",
        "\n",
        "#if 'AgeGroup' == '30-44':\n",
        "    #xtrain['BMI'].fillna(BMI1, inplace=True)\n",
        "#elif 'AgeGroup' == '45-57':\n",
        "    #xtrain['BMI'].fillna(BMI2, inplace=True)\n",
        "#else:\n",
        "    #xtrain['BMI'].fillna(BMI3, inplace=True)\n",
        "\n",
        "#print(xtrain[xtrain['BMI'].isnull()])\n",
        "#print(xtrain['BMI'].isnull().sum())\n",
        "\n"
      ],
      "execution_count": 15,
      "outputs": []
    },
    {
      "cell_type": "code",
      "metadata": {
        "id": "sUIP1w1Du43f"
      },
      "source": [
        "#Category 30-40\n",
        "#df.loc[(df['AgeRange']==\"30-40\"), 'BMI'].mean()\n",
        "#df.loc[(df['AgeRange']==\"30-40\"), 'BMI'] = df.BMI.fillna(df.loc[(df['AgeRange']==\"30-40\"), 'BMI'].mean())\n",
        "#print(df[df['AgeRange'] == '30-40'].isnull().sum())\n",
        "#df[df['AgeRange'] == '30-40'].head()\n"
      ],
      "execution_count": 16,
      "outputs": []
    },
    {
      "cell_type": "markdown",
      "metadata": {
        "id": "_LWrlLkjuHeS"
      },
      "source": [
        "# K Nearest Neighbors for glucose"
      ]
    },
    {
      "cell_type": "code",
      "metadata": {
        "id": "AMcSsW-bSx3Q",
        "colab": {
          "base_uri": "https://localhost:8080/"
        },
        "outputId": "bfba3d5b-4c5b-44b6-b3a3-68a972a600d7"
      },
      "source": [
        "#save missing values of glucose in seperate dataset\n",
        "null_data_glucose = xtrain[df.isnull().glucose]\n",
        "#null_data_glucose = null_data_glucose.drop(\"AgeGroup\", axis=1)\n",
        "null_data_glucose = null_data_glucose.drop(\"glucose\", axis=1)\n",
        "null_data_glucose = null_data_glucose.values\n",
        "print(null_data_glucose)"
      ],
      "execution_count": 36,
      "outputs": [
        {
          "output_type": "stream",
          "text": [
            "[[0 39 '1' ... 64.0 22.35 85.0]\n",
            " [0 43 '1' ... 77.5 29.89 70.0]\n",
            " [0 60 '1' ... 72.5 26.59 65.0]\n",
            " ...\n",
            " [0 41 '1' ... 74.0 20.85 87.0]\n",
            " [0 56 '1' ... 102.0 22.89 57.0]\n",
            " [0 44 '1' ... 87.0 19.16 86.0]]\n"
          ],
          "name": "stdout"
        }
      ]
    },
    {
      "cell_type": "code",
      "metadata": {
        "colab": {
          "base_uri": "https://localhost:8080/"
        },
        "id": "MzA2o6VU-2Ym",
        "outputId": "e06ee45f-d4d5-41f9-f126-54c3806659a2"
      },
      "source": [
        "#k-neartes neighbors\n",
        "from sklearn.neighbors import NearestNeighbors\n",
        "from sklearn.neighbors import KNeighborsRegressor\n",
        "#xtrain_train = xtrain.drop(columns=[\"AgeGroup\"], axis=1)\n",
        "xtrain_train = xtrain.dropna()\n",
        "\n",
        "#define distances on the vectors of the independent variables, so first get pandas DataFrame into a NumPy array\n",
        "X = xtrain_train.drop(\"glucose\", axis=1)\n",
        "X = X.values    #independet variables\n",
        "y = xtrain_train[\"glucose\"]\n",
        "y = y.values  #dependet variable of the model\n",
        "\n",
        "print(X.shape, y.shape)"
      ],
      "execution_count": 22,
      "outputs": [
        {
          "output_type": "stream",
          "text": [
            "(2688, 14) (2688,)\n"
          ],
          "name": "stdout"
        }
      ]
    },
    {
      "cell_type": "code",
      "metadata": {
        "id": "c4rLpZ9zSrzu",
        "colab": {
          "base_uri": "https://localhost:8080/"
        },
        "outputId": "8503652e-adfc-472b-e5a4-9e3a4633ffd1"
      },
      "source": [
        "from sklearn.model_selection import train_test_split\n",
        "X_train1, X_test1, y_train1, y_test1 = train_test_split(X, y, test_size=0.3, random_state=1)\n",
        "print(X_test1.shape, y_test1.shape)"
      ],
      "execution_count": 23,
      "outputs": [
        {
          "output_type": "stream",
          "text": [
            "(807, 14) (807,)\n"
          ],
          "name": "stdout"
        }
      ]
    },
    {
      "cell_type": "code",
      "metadata": {
        "id": "7_s9JzuOlZDW"
      },
      "source": [
        "#Data Standardization\n",
        "from sklearn.preprocessing import StandardScaler\n",
        "\n",
        "# define standard scaler\n",
        "scaler = StandardScaler()\n",
        "\n",
        "# transform data\n",
        "X_train1 = scaler.fit_transform(X_train1) #only fit the training set\n",
        "X_test1 = scaler.transform(X_test1) \n",
        "\n"
      ],
      "execution_count": 24,
      "outputs": []
    },
    {
      "cell_type": "code",
      "metadata": {
        "id": "Xbj1Me8O5a7y"
      },
      "source": [
        "from sklearn.model_selection import GridSearchCV\n",
        "parameters = {\"n_neighbors\": range(1, 31),\n",
        "              \"weights\": [\"uniform\",\"distance\"],\n",
        "              \"metric\": [\"euclidean\", \"manhattan\"]}\n",
        "              \n",
        "gs=GridSearchCV(KNeighborsRegressor(), parameters, scoring=\"neg_mean_squared_error\",cv=10, n_jobs=-1)\n",
        "\n",
        "#fitting the model for grid\n",
        "gs_results = gs.fit(X_train1, y_train1)"
      ],
      "execution_count": 25,
      "outputs": []
    },
    {
      "cell_type": "code",
      "metadata": {
        "id": "is46WamL_Ayc",
        "colab": {
          "base_uri": "https://localhost:8080/"
        },
        "outputId": "f2f38dec-ceca-40d7-cc6d-e56d91c4cc4d"
      },
      "source": [
        "print(gs_results.best_params_)\n",
        "#beste metrik durch GridSearch"
      ],
      "execution_count": 26,
      "outputs": [
        {
          "output_type": "stream",
          "text": [
            "{'metric': 'euclidean', 'n_neighbors': 16, 'weights': 'uniform'}\n"
          ],
          "name": "stdout"
        }
      ]
    },
    {
      "cell_type": "code",
      "metadata": {
        "id": "yjX1excr9Ywx",
        "colab": {
          "base_uri": "https://localhost:8080/"
        },
        "outputId": "9f05b63a-b684-4565-fc41-7d0610d465d2"
      },
      "source": [
        "print(gs_results.best_score_) #andere metrik"
      ],
      "execution_count": 27,
      "outputs": [
        {
          "output_type": "stream",
          "text": [
            "-404.0895361817341\n"
          ],
          "name": "stdout"
        }
      ]
    },
    {
      "cell_type": "code",
      "metadata": {
        "id": "CGRZfhS2p4Jr",
        "colab": {
          "base_uri": "https://localhost:8080/"
        },
        "outputId": "03ff6102-6e0c-4052-eea7-acdf563f2479"
      },
      "source": [
        "#Cross Validation\n",
        "#import k-folder\n",
        "from sklearn.model_selection import cross_val_score\n",
        "from sklearn.neighbors import KNeighborsRegressor\n",
        "knn = KNeighborsRegressor(n_neighbors = 16)\n",
        "\n",
        "# X,y will automatically devided by 5 folder, the scoring I will still use the accuracy\n",
        "score = cross_val_score(knn, X, y, cv=5, scoring=\"neg_root_mean_squared_error\")\n",
        "#takes the features X (independet variables) and target y (dependent variable) -> splits into k-folds (cv parameter)\n",
        "#Model is trained using K-1 of the folds as training data\n",
        "print(score)\n",
        "\n",
        "#average of these five scores to get accuracy score\n",
        "print(\"The accuracy of the model is : \", -score.mean())"
      ],
      "execution_count": 28,
      "outputs": [
        {
          "output_type": "stream",
          "text": [
            "[-18.34797847 -21.4659388  -23.51802446 -29.25252572 -32.38091275]\n",
            "The accuracy of the model is :  24.9930760406269\n"
          ],
          "name": "stdout"
        }
      ]
    },
    {
      "cell_type": "code",
      "metadata": {
        "id": "VRTZ0HQS_cGq",
        "colab": {
          "base_uri": "https://localhost:8080/"
        },
        "outputId": "620d2cdc-bc97-4be3-9caa-2662e7e8843a"
      },
      "source": [
        "#Fit Knn Model based on grid Search findings\n",
        "knn = KNeighborsRegressor(n_neighbors=16, weights='distance', metric='euclidean')\n",
        "knn.fit(X_train1, y_train1)"
      ],
      "execution_count": 29,
      "outputs": [
        {
          "output_type": "execute_result",
          "data": {
            "text/plain": [
              "KNeighborsRegressor(algorithm='auto', leaf_size=30, metric='euclidean',\n",
              "                    metric_params=None, n_jobs=None, n_neighbors=16, p=2,\n",
              "                    weights='distance')"
            ]
          },
          "metadata": {
            "tags": []
          },
          "execution_count": 29
        }
      ]
    },
    {
      "cell_type": "code",
      "metadata": {
        "id": "ybFZeOAOC2tv",
        "colab": {
          "base_uri": "https://localhost:8080/"
        },
        "outputId": "c15bf4a0-e3a3-448d-f0b4-c7c73fb7d122"
      },
      "source": [
        "#Model evaluation\n",
        "from sklearn.metrics import mean_squared_error\n",
        "from math import sqrt\n",
        "y_preds = knn.predict(X_test1)\n",
        "mse = mean_squared_error(y_test1, y_preds)\n",
        "rmse = sqrt(mse)\n",
        "rmse"
      ],
      "execution_count": 30,
      "outputs": [
        {
          "output_type": "execute_result",
          "data": {
            "text/plain": [
              "19.964269100297745"
            ]
          },
          "metadata": {
            "tags": []
          },
          "execution_count": 30
        }
      ]
    },
    {
      "cell_type": "code",
      "metadata": {
        "id": "8f-4fdTzCF0Y"
      },
      "source": [
        "X = scaler.fit_transform(X)"
      ],
      "execution_count": 31,
      "outputs": []
    },
    {
      "cell_type": "code",
      "metadata": {
        "id": "o0HJVAh96WkQ",
        "colab": {
          "base_uri": "https://localhost:8080/"
        },
        "outputId": "04fd8379-c3f9-41d3-ced6-b705ece8f902"
      },
      "source": [
        "#Fit knn model on whole dataset\n",
        "knn1 = KNeighborsRegressor(n_neighbors=16, weights='distance', metric='euclidean')\n",
        "knn1.fit(X, y)"
      ],
      "execution_count": 32,
      "outputs": [
        {
          "output_type": "execute_result",
          "data": {
            "text/plain": [
              "KNeighborsRegressor(algorithm='auto', leaf_size=30, metric='euclidean',\n",
              "                    metric_params=None, n_jobs=None, n_neighbors=16, p=2,\n",
              "                    weights='distance')"
            ]
          },
          "metadata": {
            "tags": []
          },
          "execution_count": 32
        }
      ]
    },
    {
      "cell_type": "code",
      "metadata": {
        "colab": {
          "base_uri": "https://localhost:8080/"
        },
        "id": "nld_VqPCUiO5",
        "outputId": "31b7a19a-c6ee-4cc9-cec0-6477855bb2fd"
      },
      "source": [
        "#Use Knn to predict the nan values of glucose\n",
        "null_data_glucose = scaler.transform(null_data_glucose) \n",
        "gluc_preds = knn1.predict(null_data_glucose)\n",
        "gluc_preds\n",
        "#np.count_nonzero(gluc_preds)\n"
      ],
      "execution_count": 38,
      "outputs": [
        {
          "output_type": "execute_result",
          "data": {
            "text/plain": [
              "array([ 72.27614338,  70.98712757,  71.05203382,  74.96786879,\n",
              "        71.05093639,  71.53450074,  77.39463824,  73.67703066,\n",
              "        74.73924654,  73.67622742,  71.41647225, 153.96875558,\n",
              "        74.41776405,  74.73545759,  71.42164833,  71.4204409 ,\n",
              "       141.12056308,  74.73345452,  71.41903158,  71.4222736 ,\n",
              "        73.61337473,  72.2754973 ,  71.41799286,  70.98521338,\n",
              "        70.98879846,  72.27565968,  71.53232454,  74.73545338,\n",
              "        72.2761087 ,  72.27595523,  72.27458264,  72.275555  ,\n",
              "        70.98975087,  70.98943194,  73.67513451,  72.27624165,\n",
              "        72.27695985,  72.27666303,  70.86306617,  72.27762927,\n",
              "        72.27443112,  71.42067057,  70.86374352,  71.41727221,\n",
              "        71.41868559,  72.27528068,  71.42169984,  73.61512761,\n",
              "        72.27645756,  74.73689411,  70.86451454,  71.04452885,\n",
              "        73.61408052,  72.27551889,  73.61518128,  74.73671533,\n",
              "        70.98953069,  73.67716074,  71.42137991,  72.27776768,\n",
              "        70.86357251,  73.61455245,  72.27590742,  71.05581303,\n",
              "        70.98586096,  71.41701825,  73.61550155,  73.61355352,\n",
              "        70.86384272,  70.99020799,  70.98998246,  71.42236801,\n",
              "        71.42456977,  72.27614093,  72.27632798,  75.22320343,\n",
              "        71.42212691,  71.04905814,  72.27413835,  72.27546782,\n",
              "        72.2758161 ,  70.98739934,  73.6157247 ,  74.73723731,\n",
              "        74.96815667,  72.27539927,  73.61464921,  70.98982175,\n",
              "        72.03383641,  73.61328759,  73.61411436,  70.98813525,\n",
              "        73.67625186,  70.86313362,  71.4245682 ,  72.0326374 ,\n",
              "        73.61435411,  73.61516487,  73.61607644,  71.05307806,\n",
              "        74.73711611,  71.42166639,  72.27573506,  70.86357083,\n",
              "        72.27570051,  74.73774501,  71.42105977,  74.73575957,\n",
              "        70.98915993,  71.42220835,  71.41950935,  71.41981764,\n",
              "        71.04861304,  70.98951842,  75.22232544,  74.218806  ,\n",
              "        74.7361217 ,  72.27613376,  71.42123845,  74.30519974,\n",
              "        70.98815979,  73.61548999,  72.2773628 ,  70.98902834,\n",
              "        71.4213405 ,  73.67840784,  72.27604331,  73.61533031,\n",
              "        73.67663225,  72.27649739,  72.03568855,  72.27538859,\n",
              "        73.6156178 ,  73.67627306,  74.73657324,  72.27486054,\n",
              "        73.61521606,  72.27585202,  71.41849601,  71.42186339,\n",
              "        73.6148916 ,  74.73546073,  72.27635578,  74.73051546,\n",
              "        70.98939036,  70.98855762,  73.615409  ,  72.27468461,\n",
              "        73.61309391,  70.98920349,  70.86367867,  74.73448387,\n",
              "        73.61376089,  70.98775656,  72.27644673,  71.42362568,\n",
              "        72.27746757,  74.73746959,  73.61595678,  73.61602655,\n",
              "        70.86404709,  72.27633133,  72.27539201,  74.73518451,\n",
              "        74.73731315,  72.27651446, 169.05108012,  72.27633885,\n",
              "        71.05082558,  71.42066363,  72.27647479,  72.27520085,\n",
              "        74.73742748,  71.42291019,  71.41807983,  71.42008529,\n",
              "        70.86284242,  72.27476658,  73.67638551,  70.86340073,\n",
              "        72.27490831,  73.61517254,  70.98685167,  72.27716016,\n",
              "        74.96813294,  73.61491054,  72.27766837,  71.42159976,\n",
              "        70.98693367,  74.73662841,  70.86373992,  71.41923787,\n",
              "        72.2758274 ,  73.67561342,  71.42017318,  72.27937215,\n",
              "        72.27558207,  70.86393512,  70.98974071,  70.98681048,\n",
              "        72.27601047,  73.6146556 ,  70.98935601, 153.96342371,\n",
              "        72.27621588,  73.61554816,  74.30428178,  70.86326531,\n",
              "        73.61556003,  71.04909189,  72.27576245,  70.98926302,\n",
              "        70.86378332,  70.8630728 ,  74.73179441,  72.27553001,\n",
              "        72.27589177,  73.61557095,  71.05104835,  72.2753798 ,\n",
              "        73.61553974,  70.98867645,  72.27461811,  72.27623516,\n",
              "        72.0352911 ,  73.61271695,  72.27815946,  72.27509908,\n",
              "        74.7359886 ,  72.03650692,  70.99026253,  72.27563627,\n",
              "        73.61471437,  74.29996906,  73.61492969,  71.42108231,\n",
              "        73.61599661,  71.42014411,  73.61434824,  72.27629279,\n",
              "        72.27537883,  71.42223124,  71.42111601,  70.98995407,\n",
              "        72.27437828,  74.73616068,  71.42109718,  73.67652108,\n",
              "        70.86348064,  72.27555068,  73.61211513,  70.98649426,\n",
              "        72.2775924 ,  71.42119318,  74.73899852,  71.42117136,\n",
              "        70.9908767 ,  71.41828022,  73.61590328,  73.61273611,\n",
              "        70.99036553,  70.86366484,  71.42198848,  71.42007373,\n",
              "        70.86415251,  70.98629513,  72.27468677,  73.6146088 ,\n",
              "        73.67614416,  74.73575754,  71.42008878,  70.9899782 ,\n",
              "        73.61423686,  72.27620618,  72.27561642,  72.27524319,\n",
              "        72.27584164])"
            ]
          },
          "metadata": {
            "tags": []
          },
          "execution_count": 38
        }
      ]
    },
    {
      "cell_type": "code",
      "metadata": {
        "id": "j15AR48KZXK6"
      },
      "source": [
        "glu_nan = xtrain['glucose'].isna()\n",
        "glu_nan\n",
        "#glu_nan.value_counts()\n",
        "\n",
        "xtrain.loc[glu_nan, 'glucose'] = glu_nan\n"
      ],
      "execution_count": 39,
      "outputs": []
    },
    {
      "cell_type": "code",
      "metadata": {
        "id": "tDJciyKt2mjG",
        "colab": {
          "base_uri": "https://localhost:8080/"
        },
        "outputId": "08c64c67-8416-4c82-e81c-22edfa25cb8d"
      },
      "source": [
        "print(xtrain.isnull().sum())"
      ],
      "execution_count": 40,
      "outputs": [
        {
          "output_type": "stream",
          "text": [
            "sex                0\n",
            "age                0\n",
            "education          0\n",
            "currentSmoker      0\n",
            "cigsPerDay         0\n",
            "BPMeds             0\n",
            "prevalentStroke    0\n",
            "prevalentHyp       0\n",
            "diabetes           0\n",
            "totChol            0\n",
            "sysBP              0\n",
            "diaBP              0\n",
            "BMI                0\n",
            "heartRate          0\n",
            "glucose            0\n",
            "dtype: int64\n"
          ],
          "name": "stdout"
        }
      ]
    },
    {
      "cell_type": "code",
      "metadata": {
        "colab": {
          "base_uri": "https://localhost:8080/",
          "height": 224
        },
        "id": "hhS1pBgSCTd7",
        "outputId": "0d31a125-f3dd-4717-a6bd-9685154a1733"
      },
      "source": [
        "xtrain['TenYearCHD'] = TenYearCHD_test\n",
        "xtrain.head()\n"
      ],
      "execution_count": 47,
      "outputs": [
        {
          "output_type": "execute_result",
          "data": {
            "text/html": [
              "<div>\n",
              "<style scoped>\n",
              "    .dataframe tbody tr th:only-of-type {\n",
              "        vertical-align: middle;\n",
              "    }\n",
              "\n",
              "    .dataframe tbody tr th {\n",
              "        vertical-align: top;\n",
              "    }\n",
              "\n",
              "    .dataframe thead th {\n",
              "        text-align: right;\n",
              "    }\n",
              "</style>\n",
              "<table border=\"1\" class=\"dataframe\">\n",
              "  <thead>\n",
              "    <tr style=\"text-align: right;\">\n",
              "      <th></th>\n",
              "      <th>sex</th>\n",
              "      <th>age</th>\n",
              "      <th>education</th>\n",
              "      <th>currentSmoker</th>\n",
              "      <th>cigsPerDay</th>\n",
              "      <th>BPMeds</th>\n",
              "      <th>prevalentStroke</th>\n",
              "      <th>prevalentHyp</th>\n",
              "      <th>diabetes</th>\n",
              "      <th>totChol</th>\n",
              "      <th>sysBP</th>\n",
              "      <th>diaBP</th>\n",
              "      <th>BMI</th>\n",
              "      <th>heartRate</th>\n",
              "      <th>glucose</th>\n",
              "      <th>TenYearCHD</th>\n",
              "    </tr>\n",
              "  </thead>\n",
              "  <tbody>\n",
              "    <tr>\n",
              "      <th>1</th>\n",
              "      <td>0</td>\n",
              "      <td>46</td>\n",
              "      <td>2.0</td>\n",
              "      <td>0</td>\n",
              "      <td>0.0</td>\n",
              "      <td>0.0</td>\n",
              "      <td>0</td>\n",
              "      <td>0</td>\n",
              "      <td>0</td>\n",
              "      <td>250.0</td>\n",
              "      <td>121.0</td>\n",
              "      <td>81.0</td>\n",
              "      <td>28.73</td>\n",
              "      <td>95.0</td>\n",
              "      <td>76.0</td>\n",
              "      <td>0</td>\n",
              "    </tr>\n",
              "    <tr>\n",
              "      <th>2</th>\n",
              "      <td>1</td>\n",
              "      <td>48</td>\n",
              "      <td>1.0</td>\n",
              "      <td>1</td>\n",
              "      <td>20.0</td>\n",
              "      <td>0.0</td>\n",
              "      <td>0</td>\n",
              "      <td>0</td>\n",
              "      <td>0</td>\n",
              "      <td>245.0</td>\n",
              "      <td>127.5</td>\n",
              "      <td>80.0</td>\n",
              "      <td>25.34</td>\n",
              "      <td>75.0</td>\n",
              "      <td>70.0</td>\n",
              "      <td>0</td>\n",
              "    </tr>\n",
              "    <tr>\n",
              "      <th>3</th>\n",
              "      <td>0</td>\n",
              "      <td>61</td>\n",
              "      <td>3.0</td>\n",
              "      <td>1</td>\n",
              "      <td>30.0</td>\n",
              "      <td>0.0</td>\n",
              "      <td>0</td>\n",
              "      <td>1</td>\n",
              "      <td>0</td>\n",
              "      <td>225.0</td>\n",
              "      <td>150.0</td>\n",
              "      <td>95.0</td>\n",
              "      <td>28.58</td>\n",
              "      <td>65.0</td>\n",
              "      <td>103.0</td>\n",
              "      <td>1</td>\n",
              "    </tr>\n",
              "    <tr>\n",
              "      <th>4</th>\n",
              "      <td>0</td>\n",
              "      <td>46</td>\n",
              "      <td>3.0</td>\n",
              "      <td>1</td>\n",
              "      <td>23.0</td>\n",
              "      <td>0.0</td>\n",
              "      <td>0</td>\n",
              "      <td>0</td>\n",
              "      <td>0</td>\n",
              "      <td>285.0</td>\n",
              "      <td>130.0</td>\n",
              "      <td>84.0</td>\n",
              "      <td>23.10</td>\n",
              "      <td>85.0</td>\n",
              "      <td>85.0</td>\n",
              "      <td>0</td>\n",
              "    </tr>\n",
              "    <tr>\n",
              "      <th>5</th>\n",
              "      <td>0</td>\n",
              "      <td>43</td>\n",
              "      <td>2.0</td>\n",
              "      <td>0</td>\n",
              "      <td>0.0</td>\n",
              "      <td>0.0</td>\n",
              "      <td>0</td>\n",
              "      <td>1</td>\n",
              "      <td>0</td>\n",
              "      <td>228.0</td>\n",
              "      <td>180.0</td>\n",
              "      <td>110.0</td>\n",
              "      <td>30.30</td>\n",
              "      <td>77.0</td>\n",
              "      <td>99.0</td>\n",
              "      <td>0</td>\n",
              "    </tr>\n",
              "  </tbody>\n",
              "</table>\n",
              "</div>"
            ],
            "text/plain": [
              "   sex  age  education  currentSmoker  cigsPerDay  BPMeds  prevalentStroke  \\\n",
              "1    0   46        2.0              0         0.0     0.0                0   \n",
              "2    1   48        1.0              1        20.0     0.0                0   \n",
              "3    0   61        3.0              1        30.0     0.0                0   \n",
              "4    0   46        3.0              1        23.0     0.0                0   \n",
              "5    0   43        2.0              0         0.0     0.0                0   \n",
              "\n",
              "   prevalentHyp  diabetes  totChol  sysBP  diaBP    BMI  heartRate  glucose  \\\n",
              "1             0         0    250.0  121.0   81.0  28.73       95.0     76.0   \n",
              "2             0         0    245.0  127.5   80.0  25.34       75.0     70.0   \n",
              "3             1         0    225.0  150.0   95.0  28.58       65.0    103.0   \n",
              "4             0         0    285.0  130.0   84.0  23.10       85.0     85.0   \n",
              "5             1         0    228.0  180.0  110.0  30.30       77.0     99.0   \n",
              "\n",
              "   TenYearCHD  \n",
              "1           0  \n",
              "2           0  \n",
              "3           1  \n",
              "4           0  \n",
              "5           0  "
            ]
          },
          "metadata": {
            "tags": []
          },
          "execution_count": 47
        }
      ]
    },
    {
      "cell_type": "code",
      "metadata": {
        "id": "VavRYOkCSuXs"
      },
      "source": [
        "xtrain.to_csv('framingham_cleaned.csv')"
      ],
      "execution_count": 48,
      "outputs": []
    },
    {
      "cell_type": "markdown",
      "metadata": {
        "id": "dsHl2SzLPrvb"
      },
      "source": [
        "# Linear Regression for Glucose"
      ]
    },
    {
      "cell_type": "code",
      "metadata": {
        "colab": {
          "base_uri": "https://localhost:8080/"
        },
        "id": "NnkRPP3iPzTV",
        "outputId": "ac64db4f-7530-438a-9c64-69b7dcabb837"
      },
      "source": [
        "from sklearn import linear_model\n",
        "from sklearn.metrics import mean_squared_error, r2_score\n",
        "\n",
        "regr = linear_model.LinearRegression()\n",
        "\n",
        "# Train the model using the training sets\n",
        "regr.fit(X_train, y_train)"
      ],
      "execution_count": null,
      "outputs": [
        {
          "output_type": "execute_result",
          "data": {
            "text/plain": [
              "LinearRegression(copy_X=True, fit_intercept=True, n_jobs=None, normalize=False)"
            ]
          },
          "metadata": {
            "tags": []
          },
          "execution_count": 65
        }
      ]
    },
    {
      "cell_type": "code",
      "metadata": {
        "colab": {
          "base_uri": "https://localhost:8080/"
        },
        "id": "5DWMGQkyahrl",
        "outputId": "9cdbe4ec-3f5f-47a6-ad03-9ff9c1bd2903"
      },
      "source": [
        "#evaluate the fit on the testing data\n",
        "y_pred_lin = regr.predict(X_test)\n",
        "\n",
        "#print('Coefficients: \\n', regr.coef_)\n",
        "# The mean squared error\n",
        "mse_lin_test = (mean_squared_error(y_test, y_pred_lin))\n",
        "rmse = sqrt(mse_lin_test)\n",
        "print(rmse)\n",
        "\n",
        "# The coefficient of determination: 1 is perfect prediction\n",
        "print(r2_score(y_test, y_pred_lin))"
      ],
      "execution_count": null,
      "outputs": [
        {
          "output_type": "stream",
          "text": [
            "18.679285557874415\n",
            "0.3958693322205926\n"
          ],
          "name": "stdout"
        }
      ]
    },
    {
      "cell_type": "code",
      "metadata": {
        "colab": {
          "base_uri": "https://localhost:8080/"
        },
        "id": "VtQSkaLKaSEP",
        "outputId": "bba41aaa-3ca4-4ba8-9cd9-37f067082de5"
      },
      "source": [
        "#evaluate the fit on the training data\n",
        "y_pred_lin1 = regr.predict(X_train)\n",
        "\n",
        "#print('Coefficients: \\n', regr.coef_)\n",
        "# The mean squared error\n",
        "mse_lin_train = (mean_squared_error(y_train, y_pred_lin1))\n",
        "rmse1 = sqrt(mse_lin_train)\n",
        "print(rmse1)\n",
        "# The coefficient of determination: 1 is perfect prediction\n",
        "print(r2_score(y_train, y_pred_lin1))"
      ],
      "execution_count": null,
      "outputs": [
        {
          "output_type": "stream",
          "text": [
            "18.62498157775653\n",
            "0.3947602078289537\n"
          ],
          "name": "stdout"
        }
      ]
    },
    {
      "cell_type": "markdown",
      "metadata": {
        "id": "oIEr85a7V4kT"
      },
      "source": [
        "# KNN Try outs"
      ]
    },
    {
      "cell_type": "code",
      "metadata": {
        "colab": {
          "base_uri": "https://localhost:8080/"
        },
        "id": "6g29_9E--p8y",
        "outputId": "5b4219fb-07cc-4179-eda1-53ab5184f92f"
      },
      "source": [
        "correlation_matrix = df.corr()\n",
        "correlation_matrix[\"glucose\"]"
      ],
      "execution_count": null,
      "outputs": [
        {
          "output_type": "execute_result",
          "data": {
            "text/plain": [
              "sex                0.006042\n",
              "age                0.119619\n",
              "currentSmoker     -0.054549\n",
              "cigsPerDay        -0.057385\n",
              "BPMeds             0.047673\n",
              "prevalentStroke    0.017986\n",
              "prevalentHyp       0.085168\n",
              "diabetes           0.623124\n",
              "totChol            0.045255\n",
              "sysBP              0.140131\n",
              "diaBP              0.061347\n",
              "BMI                0.081451\n",
              "heartRate          0.088702\n",
              "glucose            1.000000\n",
              "TenYearCHD         0.123528\n",
              "Name: glucose, dtype: float64"
            ]
          },
          "metadata": {
            "tags": []
          },
          "execution_count": 67
        }
      ]
    },
    {
      "cell_type": "code",
      "metadata": {
        "colab": {
          "base_uri": "https://localhost:8080/",
          "height": 484
        },
        "id": "zfH0CEbC6mXI",
        "outputId": "4ab2ee88-5795-4e37-f092-fa83f07acf48"
      },
      "source": [
        "#Plotting the model\n",
        "#create a scatter plot of the first and second columns of X_test by subsetting the arrays X_test[:,1] and X_test[:,10]\n",
        "#columns are age and sysBP --> correlated\n",
        "#colorbar shows predicted glucose value\n",
        "import seaborn as sns\n",
        "cmap = sns.cubehelix_palette(as_cmap=True)\n",
        "f, ax = plt.subplots()\n",
        "points = ax.scatter(X_test[:, 1], X_test[:, 10], c=test_preds, s=50, cmap=cmap)\n",
        "f.colorbar(points)\n",
        "plt.show()"
      ],
      "execution_count": null,
      "outputs": [
        {
          "output_type": "error",
          "ename": "NameError",
          "evalue": "ignored",
          "traceback": [
            "\u001b[0;31m---------------------------------------------------------------------------\u001b[0m",
            "\u001b[0;31mNameError\u001b[0m                                 Traceback (most recent call last)",
            "\u001b[0;32m<ipython-input-68-3d06d64406e8>\u001b[0m in \u001b[0;36m<module>\u001b[0;34m()\u001b[0m\n\u001b[1;32m      6\u001b[0m \u001b[0mcmap\u001b[0m \u001b[0;34m=\u001b[0m \u001b[0msns\u001b[0m\u001b[0;34m.\u001b[0m\u001b[0mcubehelix_palette\u001b[0m\u001b[0;34m(\u001b[0m\u001b[0mas_cmap\u001b[0m\u001b[0;34m=\u001b[0m\u001b[0;32mTrue\u001b[0m\u001b[0;34m)\u001b[0m\u001b[0;34m\u001b[0m\u001b[0;34m\u001b[0m\u001b[0m\n\u001b[1;32m      7\u001b[0m \u001b[0mf\u001b[0m\u001b[0;34m,\u001b[0m \u001b[0max\u001b[0m \u001b[0;34m=\u001b[0m \u001b[0mplt\u001b[0m\u001b[0;34m.\u001b[0m\u001b[0msubplots\u001b[0m\u001b[0;34m(\u001b[0m\u001b[0;34m)\u001b[0m\u001b[0;34m\u001b[0m\u001b[0;34m\u001b[0m\u001b[0m\n\u001b[0;32m----> 8\u001b[0;31m \u001b[0mpoints\u001b[0m \u001b[0;34m=\u001b[0m \u001b[0max\u001b[0m\u001b[0;34m.\u001b[0m\u001b[0mscatter\u001b[0m\u001b[0;34m(\u001b[0m\u001b[0mX_test\u001b[0m\u001b[0;34m[\u001b[0m\u001b[0;34m:\u001b[0m\u001b[0;34m,\u001b[0m \u001b[0;36m1\u001b[0m\u001b[0;34m]\u001b[0m\u001b[0;34m,\u001b[0m \u001b[0mX_test\u001b[0m\u001b[0;34m[\u001b[0m\u001b[0;34m:\u001b[0m\u001b[0;34m,\u001b[0m \u001b[0;36m10\u001b[0m\u001b[0;34m]\u001b[0m\u001b[0;34m,\u001b[0m \u001b[0mc\u001b[0m\u001b[0;34m=\u001b[0m\u001b[0mtest_preds\u001b[0m\u001b[0;34m,\u001b[0m \u001b[0ms\u001b[0m\u001b[0;34m=\u001b[0m\u001b[0;36m50\u001b[0m\u001b[0;34m,\u001b[0m \u001b[0mcmap\u001b[0m\u001b[0;34m=\u001b[0m\u001b[0mcmap\u001b[0m\u001b[0;34m)\u001b[0m\u001b[0;34m\u001b[0m\u001b[0;34m\u001b[0m\u001b[0m\n\u001b[0m\u001b[1;32m      9\u001b[0m \u001b[0mf\u001b[0m\u001b[0;34m.\u001b[0m\u001b[0mcolorbar\u001b[0m\u001b[0;34m(\u001b[0m\u001b[0mpoints\u001b[0m\u001b[0;34m)\u001b[0m\u001b[0;34m\u001b[0m\u001b[0;34m\u001b[0m\u001b[0m\n\u001b[1;32m     10\u001b[0m \u001b[0mplt\u001b[0m\u001b[0;34m.\u001b[0m\u001b[0mshow\u001b[0m\u001b[0;34m(\u001b[0m\u001b[0;34m)\u001b[0m\u001b[0;34m\u001b[0m\u001b[0;34m\u001b[0m\u001b[0m\n",
            "\u001b[0;31mNameError\u001b[0m: name 'test_preds' is not defined"
          ]
        },
        {
          "output_type": "display_data",
          "data": {
            "image/png": "[encoded data removed]",
            "text/plain": [
              "<Figure size 432x288 with 1 Axes>"
            ]
          },
          "metadata": {
            "tags": []
          }
        }
      ]
    },
    {
      "cell_type": "code",
      "metadata": {
        "colab": {
          "base_uri": "https://localhost:8080/",
          "height": 265
        },
        "id": "TjYrqIae9euE",
        "outputId": "0c172f5a-bb53-41be-9e0f-41d2f1d1cb61"
      },
      "source": [
        "f, ax = plt.subplots()\n",
        "points = ax.scatter(X_train[:, 1], X_train[:, 10], c=train_preds, s=50, cmap=cmap)\n",
        "f.colorbar(points)\n",
        "plt.show()"
      ],
      "execution_count": null,
      "outputs": [
        {
          "output_type": "display_data",
          "data": {
            "image/png": "[encoded data removed]",
            "text/plain": [
              "<Figure size 432x288 with 2 Axes>"
            ]
          },
          "metadata": {
            "tags": []
          }
        }
      ]
    },
    {
      "cell_type": "code",
      "metadata": {
        "colab": {
          "base_uri": "https://localhost:8080/",
          "height": 279
        },
        "id": "sFJZjE0_p9jj",
        "outputId": "87fc9044-aaac-4056-ec7f-d53c302ff5dd"
      },
      "source": [
        "#choose differenct neighbors to see which K is the best K\n",
        "import matplotlib.pyplot as plt \n",
        "%matplotlib inline\n",
        "\n",
        "# choose k between 1 to 100\n",
        "k_range = range(1, 31)\n",
        "\n",
        "k_scores = []\n",
        "\n",
        "# use iteration to caclulator different k in models, then return the average accuracy based on the cross validation\n",
        "for k in k_range:\n",
        "    knn = KNeighborsRegressor(n_neighbors=k)\n",
        "    scores = cross_val_score(knn, X, y, cv=5, scoring=\"neg_root_mean_squared_error\")\n",
        "    k_scores.append(scores.mean())\n",
        "\n",
        "# plot to see clearly\n",
        "plt.plot(k_range, k_scores)\n",
        "plt.xlabel('Value of K for KNN')\n",
        "plt.ylabel('Cross-Validated Accuracy')\n",
        "plt.show()"
      ],
      "execution_count": null,
      "outputs": [
        {
          "output_type": "display_data",
          "data": {
            "image/png": "[encoded data removed]",
            "text/plain": [
              "<Figure size 432x288 with 1 Axes>"
            ]
          },
          "metadata": {
            "tags": []
          }
        }
      ]
    }
  ]
}